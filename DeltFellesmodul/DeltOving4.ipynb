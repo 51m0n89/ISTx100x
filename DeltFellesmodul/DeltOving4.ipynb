{
 "cells": [
  {
   "cell_type": "markdown",
   "metadata": {},
   "source": [
    "# Øving 4: Vanlige sannsynlighetsmodeller"
   ]
  },
  {
   "cell_type": "markdown",
   "metadata": {},
   "source": [
    "## Spørsmål 3\n",
    "\n",
    "La $X$ være antall suksesser i et binomisk forsøk med $n$ (gitt tatt i oppgaven) og $p$ (gitt tall i oppgaven).\n",
    "Regn ut:\n",
    "\n",
    "a) P($X$=a) \n",
    "b) P($X \\le$ b) \n",
    "c) P($X$<c) \n",
    "\n",
    "Her har du fått dine unike verdi av $n$, $p$ og av $a$, $b$ og $c$, og du må bruke dem.\n",
    "\n",
    "Vi setter noen valgt verdier i løsningen under, men du må du bruke verdiene du får når du gjør oppgaven.\n",
    "\n",
    "Først - vi trenger statistikk-modulen fra scipy-pakke, som vi laster slik:\n"
   ]
  },
  {
   "cell_type": "code",
   "execution_count": 20,
   "metadata": {},
   "outputs": [],
   "source": [
    "from scipy import stats"
   ]
  },
  {
   "cell_type": "markdown",
   "metadata": {},
   "source": [
    "Vi fikk verdiene $n=37$ og $p=0.6$.\n",
    "\n",
    "## 3a\n",
    "\n",
    "Anta at du skal regne ut $P(X=21)$, da bruker du funksjonen stats.binom.pmf som tar tre argumenter: først tallet som vi skal være lik (her 21), deretter n (her 37) og så p (0.6)."
   ]
  },
  {
   "cell_type": "code",
   "execution_count": 21,
   "metadata": {},
   "outputs": [
    {
     "data": {
      "text/plain": [
       "0.1213135990004439"
      ]
     },
     "execution_count": 21,
     "metadata": {},
     "output_type": "execute_result"
    }
   ],
   "source": [
    "stats.binom.pmf(21,37,0.6)"
   ]
  },
  {
   "cell_type": "markdown",
   "metadata": {},
   "source": [
    "## 3b \n",
    "\n",
    "Anta at du skal regne ut $P(X \\le 21)$. Du skal bruke funksjonen stats.binom.cdf som tar de samme tre argumentene som over, og regner ut sannsynlighet for å være mindre eller lik det første tallet (her 21)."
   ]
  },
  {
   "cell_type": "code",
   "execution_count": 22,
   "metadata": {},
   "outputs": [
    {
     "data": {
      "text/plain": [
       "0.40320180057287325"
      ]
     },
     "execution_count": 22,
     "metadata": {},
     "output_type": "execute_result"
    }
   ],
   "source": [
    "stats.binom.cdf(21,37,0.6)"
   ]
  },
  {
   "cell_type": "markdown",
   "metadata": {},
   "source": [
    "## 3c\n",
    "\n",
    "Her skal vi bruke den samme funksjonen som i 3b, men nå skal vi regne ut \"mindre enn\" og ikke\n",
    "\"mindre enn eller lik\".\n",
    "\n",
    "Anta at du skal regne ut $P(X < 16)$. Det er det samme som $P(X \\le 15)$."
   ]
  },
  {
   "cell_type": "code",
   "execution_count": 23,
   "metadata": {},
   "outputs": [
    {
     "data": {
      "text/plain": [
       "0.013065958713528855"
      ]
     },
     "execution_count": 23,
     "metadata": {},
     "output_type": "execute_result"
    }
   ],
   "source": [
    "stats.binom.cdf(16-1,37,0.6)\n"
   ]
  },
  {
   "cell_type": "markdown",
   "metadata": {},
   "source": [
    "## Spørsmål 4\n",
    "\n",
    "La $X$ være antall suksesser i et binomisk forsøk med n (gitt tall i oppgaven) og p (gitt tall i oppgaven)\n",
    "\n",
    "For hvilken verdi x er sannsynligheten $P(X=x)$ størst? Svaret er et heltall.\n",
    "\n",
    "Anta at verdiene som ble gitt i oppgaven er $n=24$ og $p=0.4$.\n",
    "\n",
    "Vi trenger tre pakker: numpy (for å jobbe med en array) og så statistikk-modulen fra scipy (som i oppgave 3), og matlibplot.pyplot for å plotte.\n",
    "\n",
    "Vi starter med å importere disse og så lage en binomisk fordelt variabel"
   ]
  },
  {
   "cell_type": "code",
   "execution_count": 24,
   "metadata": {},
   "outputs": [],
   "source": [
    "from scipy import stats\n",
    "import matplotlib.pyplot as plt\n",
    "\n",
    "X = stats.binom(n=25, p=0.6) "
   ]
  },
  {
   "cell_type": "markdown",
   "metadata": {},
   "source": [
    "Hva er de mulige veridene $X$ kan ta? For binomisk fordeling er det alle heltall fra og med 0 til og med n (her 30). \n",
    "\n",
    "Vi lager en array med disse tallene (det gjør vi med range-funksjonen under - husk at øvre grense for range er +1) og så skal vi regne ut punktsannsynligheten for disse verdiene. "
   ]
  },
  {
   "cell_type": "code",
   "execution_count": 25,
   "metadata": {},
   "outputs": [
    {
     "data": {
      "text/plain": [
       "array([1.12589991e-10, 4.22212465e-09, 7.59982437e-08, 8.73979803e-07,\n",
       "       7.21033337e-06, 4.54251002e-05, 2.27125501e-04, 9.24725255e-04,\n",
       "       3.12094774e-03, 8.84268525e-03, 2.12224446e-02, 4.34095458e-02,\n",
       "       7.59667051e-02, 1.13950058e-01, 1.46507217e-01, 1.61157939e-01,\n",
       "       1.51085568e-01, 1.19979715e-01, 7.99864769e-02, 4.42030530e-02,\n",
       "       1.98913739e-02, 7.10406210e-03, 1.93747148e-03, 3.79070507e-04,\n",
       "       4.73838134e-05, 2.84302880e-06])"
      ]
     },
     "execution_count": 25,
     "metadata": {},
     "output_type": "execute_result"
    }
   ],
   "source": [
    "xverdier=range(0,26)\n",
    "X.pmf(xverdier)"
   ]
  },
  {
   "cell_type": "code",
   "execution_count": 26,
   "metadata": {},
   "outputs": [
    {
     "data": {
      "image/png": "[encoded data removed]",
      "text/plain": [
       "<Figure size 432x288 with 1 Axes>"
      ]
     },
     "metadata": {
      "needs_background": "light"
     },
     "output_type": "display_data"
    }
   ],
   "source": [
    "fig, ax = plt.subplots()\n",
    "ax.bar(xverdier, X.pmf(xverdier))\n",
    "ax.grid()"
   ]
  },
  {
   "cell_type": "markdown",
   "metadata": {},
   "source": [
    "Her ser vi at toppen er for $x=15$. \n",
    "\n",
    "Hvis du har lyst kan du også gjøre dette automatisk ved å se på verdiene for punktsannsynlighetene vi har regnet ut, finne maksimal verdi og hvilken $x$ den maksimale verdien er for. Da kan det være du trenger verktøy fra numpy."
   ]
  }
 ],
 "metadata": {
  "kernelspec": {
   "display_name": "Python 3",
   "language": "python",
   "name": "python3"
  },
  "language_info": {
   "codemirror_mode": {
    "name": "ipython",
    "version": 3
   },
   "file_extension": ".py",
   "mimetype": "text/x-python",
   "name": "python",
   "nbconvert_exporter": "python",
   "pygments_lexer": "ipython3",
   "version": "3.8.3"
  }
 },
 "nbformat": 4,
 "nbformat_minor": 4
}
