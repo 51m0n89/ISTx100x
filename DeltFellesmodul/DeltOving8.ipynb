{
 "cells": [
  {
   "cell_type": "markdown",
   "metadata": {},
   "source": [
    "# Øving 8: Hypotesetest"
   ]
  },
  {
   "cell_type": "markdown",
   "metadata": {},
   "source": [
    "Dette er en Jupyter-notatbok. Se i Python-ressursene i venstremenyen i emnet i Blackboard hvis du ikke vet helt hvordan du bruker notatboken! \n",
    "\n",
    "**Kortversjon:** dobbeltklikk på en celle for å komme i edit-mode, gjør endringene din og kjør koden i en celle med shift-enter (eller velge play-knappen i vertøylinja over). For å kjøre alt i notatboka kan du trykke shift-enter på alle celler (en etter en), eller gå i menyen for hubben (til venstre) og velge Run-\"Run all cells\"."
   ]
  },
  {
   "cell_type": "markdown",
   "metadata": {},
   "source": [
    "## Spørsmål 7: Superlim\n",
    "\n",
    "**Husk at tallene under ikke er de samme som du har fått!**\n",
    "\n",
    "Tiden det tar før et superlim fester seg, kan betraktes som en tilfeldig variabel som er normalfordelt med ukjent forventningsverdi på $\\mu$ sekunder og et standardavvik på $\\sigma=4.1$ sekunder. Produsenten av superlimet påstår at $\\mu=30$ sekunder, men Johan mener at festetiden er lengre. \n",
    "\n",
    "Johan vil dermed teste \n",
    "$H_0: \\mu=30$ mot $H_1:\\mu>30$.\n",
    "\n",
    "For å utføre testen vil Johan kjøpe en pakke med $n$ stk. superlim og lime sammen to-og-to klosser samtidig som han holder øye med festetiden. Johan ønsker å utføre en test med signifikansnivå $\\alpha=0.1$ og skal dermed forkaste $H_0$ til fordel for$H_1$ dersom han observerer en gjennomsnittlig festetid\n",
    "$\\bar{x}$ over $k=30+z_{0.1} \\sigma/\\sqrt{n}$ sekunder.\n",
    "\n",
    "## 7 a) \n",
    "\n",
    "Dersom festetiden faktisk er på 33 sekunder, hva blir teststyrken til Johan dersom han kjøper en pakke med  $n=10$ stk. superlim? Oppgi svaret som et desimaltall med to desimaler.\n",
    "\n",
    "Testmetoden som er oppgitt er at man forkaster nullhypotesen hvis $\\bar{x}>k$, der $k$ er en funksjon av \n",
    "* verdien til $\\mu$ når nullhypotesen er riktig, \n",
    "* det kjente standardavviket $\\sigma$ og \n",
    "* det valge antallet observasjoner $n$ og så \n",
    "* det valgte signifikansnivået $\\alpha$.\n",
    "\n",
    "Men, i denne oppgaven er det bare (etter hvert) $n$ vi skal endre på.\n",
    "\n",
    "La oss starte med å lage en funksjon som heter $k$ og som tar inn $n$ som argument, men inneholder de observerte verdiene våre for de tre andre.\n",
    "\n",
    "Fra øving 7 husker vi at $z_{\\alpha}$ kritisk verdi i standard normalfordeling (tallet i standardnormalfordelingen der det er sannsynlighet $\\alpha$ for være større enn).\n",
    "For å finne $z_{\\alpha}$ bruker vi ppf-funksjonen- men er laget for nedre hale. Siden det er øvre hale vi er ute etter må vi regne dette som  $P(Z \\leq \\text{ppf}(1-\\alpha)) = 1-\\alpha$.\n",
    "\n",
    "Under ser du funksjonen k, og denne kan brukes til å regne ut den kritiske verdien $k$ som vi får gitt i oppgaven."
   ]
  },
  {
   "cell_type": "code",
   "execution_count": 1,
   "metadata": {},
   "outputs": [
    {
     "name": "stdout",
     "output_type": "stream",
     "text": [
      "31.661574973290957\n"
     ]
    }
   ],
   "source": [
    "from scipy import stats\n",
    "import numpy as np\n",
    "\n",
    "muH0sann=30\n",
    "sigma=4.1\n",
    "alpha=0.1\n",
    "n=10\n",
    "\n",
    "def k(n):\n",
    "  return(muH0sann+stats.norm.ppf(1-alpha)*sigma/np.sqrt(n))\n",
    "\n",
    "dennek=k(n)\n",
    "print(dennek)"
   ]
  },
  {
   "cell_type": "markdown",
   "metadata": {},
   "source": [
    "Med dataene jeg fikk, skal vi forkaste nullhypotesen hvis gjennomsnittet av de $n$ festetidene er større enn *dennek* verdien for $k$. \n",
    "\n",
    "Så til hva det er spurt om: **teststyrken hvis den sanne verdien til festetiden $\\mu=33$ sekunder.**\n",
    "\n",
    "Nå har verden endret seg for oss - vi vet hva forventningsverdien til $\\bar{x}$ er - og også standardavviket (sjekk formelarket hvis du har glemt det - så du vet hvor du kan slå opp under eksamen).\n",
    "\n",
    "Det er kjent at $\\bar{X}$ er normalfordelt med forventning $\\mu$ og standardavvik $\\frac{\\sigma}{\\sqrt{n}}$, og nå vet vi at denne sanne $\\mu=33$.\n",
    "\n",
    "Da skal vi bare regne ut hva er $P(\\bar{X}>k)$ når $\\bar{X}$ er normalfordelt med forventning $\\mu=33$ og standardavvik $\\frac{\\sigma}{\\sqrt{n}}$. Dette gjør vi ved å bruke *stats.norm.cdf*."
   ]
  },
  {
   "cell_type": "code",
   "execution_count": 2,
   "metadata": {},
   "outputs": [
    {
     "name": "stdout",
     "output_type": "stream",
     "text": [
      "31.661574973290957\n",
      "styrke1= 0.15096342689531145\n",
      "styrke2= 0.8490365731046885\n"
     ]
    }
   ],
   "source": [
    "muH1sann=33\n",
    "print(dennek)\n",
    "\n",
    "# hvilke av disse to er riktig styrke?\n",
    "styrke1=stats.norm.cdf(dennek,loc=muH1sann,scale=sigma/np.sqrt(n))\n",
    "styrke2=1-stats.norm.cdf(dennek,loc=muH1sann,scale=sigma/np.sqrt(n))\n",
    "print(\"styrke1=\",styrke1)\n",
    "print(\"styrke2=\",styrke2)"
   ]
  },
  {
   "cell_type": "markdown",
   "metadata": {},
   "source": [
    "Hvilke av disse to styrkene er det riktige svaret? Vi skal se på sannsynligheten for å være større enn $k$ - er det styrke1 eller styrke2? Velg riktig svar og skriv inn i stack."
   ]
  },
  {
   "cell_type": "markdown",
   "metadata": {},
   "source": [
    "## 7b) \n",
    "\n",
    "Superlim kommer i pakker på 1, 10, 25 og 50 stk. \n",
    "\n",
    "Dersom festetiden faktisk er på 33 sekunder, hvilken pakke må Johan kjøpe for at teststyrken skal bli minst $0.92$? Svar 999 om ingen av pakkene er store nok.\n",
    "\n",
    "Hvis Johan ikke tester $10$ tuber med superlim, men heller et annet tall vil det bety at grensen $k$ for å forkaste nullhypotesen endrer seg. Vi starter med å plotte $k$ som en funksjon av $n$ så vi ser det! Jeg har valgt å plott for $n=1,10,25,50,75$, men det kan du endre på."
   ]
  },
  {
   "cell_type": "code",
   "execution_count": 3,
   "metadata": {},
   "outputs": [
    {
     "data": {
      "image/png": "[encoded data removed]",
      "text/plain": [
       "<Figure size 432x288 with 1 Axes>"
      ]
     },
     "metadata": {
      "needs_background": "light"
     },
     "output_type": "display_data"
    }
   ],
   "source": [
    "import matplotlib.pyplot as plt\n",
    "import numpy as np\n",
    "from scipy import stats\n",
    "\n",
    "from scipy import stats\n",
    "import numpy as np\n",
    "\n",
    "muH0sann=30\n",
    "sigma=4.1\n",
    "alpha=0.1\n",
    "n=10\n",
    "\n",
    "def k(n):\n",
    "  return(muH0sann+stats.norm.ppf(1-alpha)*sigma/np.sqrt(n))\n",
    "\n",
    "dennek=k(n)\n",
    "\n",
    "nverdier=np.array([1.,10.,25.,50.,75.])\n",
    "\n",
    "fig, ax = plt.subplots()\n",
    "ax.plot(nverdier, k(nverdier), '.-')\n",
    "ax.set_xlabel('n')\n",
    "ax.set_ylabel('k')\n",
    "ax.grid()\n",
    "plt.show()"
   ]
  },
  {
   "cell_type": "markdown",
   "metadata": {},
   "source": [
    "Vi ble spurt om å finne for hvilken verdi av $n$ som vi klarte å få en styrke på minst $0.92$ (du fikk et annet tall). Det betyr at vi må bytte ut verdien av $k$ med funksjonen av $n$ og i tillegg huske at også $n$ inngår i standardavviket til $\\bar{X}$.\n"
   ]
  },
  {
   "cell_type": "code",
   "execution_count": 4,
   "metadata": {},
   "outputs": [
    {
     "name": "stdout",
     "output_type": "stream",
     "text": [
      "[ 1. 10. 25. 50. 75.]\n",
      "0.29121310310564086\n",
      "0.8490365731046885\n",
      "0.9912726015109558\n",
      "0.9999503713922443\n",
      "0.9999997850521832\n"
     ]
    }
   ],
   "source": [
    "muH1sann=33\n",
    "print(nverdier)\n",
    "\n",
    "for n in nverdier:\n",
    "    dennek=k(n)\n",
    "    print(1-stats.norm.cdf(dennek,loc=muH1sann,scale=sigma/np.sqrt(n)))"
   ]
  },
  {
   "cell_type": "markdown",
   "metadata": {},
   "source": [
    "Ok, men hva skal du svare på stack? Du skal svare den minste verdien av $n$ slik at styrken er minst $0.92$, og for mine tall ble det oppfylt for $n=25$ - så da er svaret $25$."
   ]
  },
  {
   "cell_type": "markdown",
   "metadata": {},
   "source": [
    "# Ekstra\n",
    "\n",
    "Har du lyst til også å plotte styrken? Da må vi også lage styrken som en funksjon av $n$."
   ]
  },
  {
   "cell_type": "code",
   "execution_count": 5,
   "metadata": {},
   "outputs": [
    {
     "name": "stdout",
     "output_type": "stream",
     "text": [
      "[0.2912131  0.84903657 0.9912726  0.99995037 0.99999979]\n"
     ]
    },
    {
     "data": {
      "image/png": "[encoded data removed]",
      "text/plain": [
       "<Figure size 432x288 with 1 Axes>"
      ]
     },
     "metadata": {
      "needs_background": "light"
     },
     "output_type": "display_data"
    }
   ],
   "source": [
    "muH1sann=33\n",
    "muH0sann=30\n",
    "sigma=4.1\n",
    "\n",
    "def styrke(n):\n",
    "    dennek=muH0sann+stats.norm.ppf(1-alpha)*sigma/np.sqrt(n)\n",
    "    res=1-stats.norm.cdf(dennek,loc=muH1sann,scale=sigma/np.sqrt(n))\n",
    "    return(res)\n",
    "\n",
    "print(styrke(nverdier))\n",
    "\n",
    "fig, ax = plt.subplots()\n",
    "ax.plot(nverdier, styrke(nverdier), '.-')\n",
    "ax.set_xlabel('n')\n",
    "ax.set_ylabel('k')\n",
    "ax.grid()\n",
    "plt.show()"
   ]
  }
 ],
 "metadata": {
  "kernelspec": {
   "display_name": "Python 3",
   "language": "python",
   "name": "python3"
  },
  "language_info": {
   "codemirror_mode": {
    "name": "ipython",
    "version": 3
   },
   "file_extension": ".py",
   "mimetype": "text/x-python",
   "name": "python",
   "nbconvert_exporter": "python",
   "pygments_lexer": "ipython3",
   "version": "3.8.3"
  }
 },
 "nbformat": 4,
 "nbformat_minor": 4
}
