{
 "cells": [
  {
   "cell_type": "markdown",
   "metadata": {},
   "source": [
    "# Øving 1: Deskriptiv statistikk\n",
    "\n",
    "Hvem er dette skrevet for: Studenter som tar \"Statistikk for ingeniører - ISTx100x\".\n",
    "\n",
    "Hva er dette: dette er kort oppskrift på hvordan du kunne ha utført beregningene i Øving 1 med Python - presentert i en Notebook.\n",
    "\n",
    "Det er nyttig å kunne skrive inn observasjoner i en vektor, regne gjennomsnitt, median, rekkevidde, empirisk varians og empirisk standardavvik av vektoren med observasjoner.\n",
    "\n",
    "Anta at vi i oppgaven har fått oppgitt n=7 observasjoner av en størrelse (høyden til studenter), og at disse er gitt i cm som \n",
    "176, 156, 190, 178, 184, 164, 179.\n",
    "\n",
    "Først lager vi en vektor med disse verdiene og så regner vi ut målene gitt over. Vi bruker funksjoner fra numpy-pakken."
   ]
  },
  {
   "cell_type": "code",
   "execution_count": 1,
   "metadata": {},
   "outputs": [
    {
     "name": "stdout",
     "output_type": "stream",
     "text": [
      "[176, 156, 190, 178, 184, 164, 179]\n"
     ]
    }
   ],
   "source": [
    "import numpy as np  \n",
    "\n",
    "# skrive inn observasjoner i en vektor\n",
    "utvalg=[176, 156, 190, 178, 184, 164, 179]\n",
    "print(utvalg)"
   ]
  },
  {
   "cell_type": "markdown",
   "metadata": {},
   "source": [
    "Du har fått oppgitt observasjoner i øvingen (i flere av oppgavene) og du lager din versjon av vektoren **utvalg**."
   ]
  },
  {
   "cell_type": "code",
   "execution_count": 2,
   "metadata": {},
   "outputs": [
    {
     "name": "stdout",
     "output_type": "stream",
     "text": [
      "Summen av utvalget er :  1227\n",
      "Summen av utvalg(float32) :  1227.0\n",
      "Gjennomsnittet av utvalget er: 175.286\n",
      "Medianen av utvalget vårt er: 178.000\n"
     ]
    }
   ],
   "source": [
    "# sum: np.sum(utvalg) \n",
    "print(\"Summen av utvalget er : \", np.sum(utvalg))  \n",
    "# np.sum kan også ta argumentet dtype ved behov\n",
    "print(\"Summen av utvalg(float32) : \", np.sum(utvalg, dtype = np.float32)) \n",
    "\n",
    "# gjennomsnitt: np.mean(utvalg)\n",
    "xmiddel=np.mean(utvalg)\n",
    "print('Gjennomsnittet av utvalget er: %.3f'%xmiddel)\n",
    "\n",
    "xmedian = np.median(utvalg)\n",
    "# Husk at Python bruker 0-indeksering hvis du skal regne ut direkte fra formelen\n",
    "print('Medianen av utvalget vårt er: %.3f'%xmedian)"
   ]
  },
  {
   "cell_type": "markdown",
   "metadata": {},
   "source": [
    "Vi kunne også regnet ut dette uten å bruke de innebygde funksjonene. Da vil utvalg[0] være det første elementet, utvalg[n-1] er det siste.\n",
    "\n",
    "Nå skal vi se på målen for variabilitet: variasjonsbredde, empirisk varians og empirisk standardavvik"
   ]
  },
  {
   "cell_type": "code",
   "execution_count": 3,
   "metadata": {},
   "outputs": [
    {
     "name": "stdout",
     "output_type": "stream",
     "text": [
      "Rekkevidden av utvalget er :  34\n",
      "Empirisk varians for utvalget vårt er 135.571, og standardavviket er 11.644\n"
     ]
    }
   ],
   "source": [
    "# rekkevidde np.ptp(utvalg)\n",
    "print(\"Rekkevidden av utvalget er : \", np.ptp(utvalg))\n",
    "\n",
    "var = np.var(utvalg, ddof=1) # ddof=1 betyr at vi deler på n-1 og ikke n - NB her er ddof=0 default\n",
    "std = np.sqrt(var)\n",
    "print('Empirisk varians for utvalget vårt er %.3f, og standardavviket er %.3f'%(var,std))"
   ]
  }
 ],
 "metadata": {
  "kernelspec": {
   "display_name": "Python 3",
   "language": "python",
   "name": "python3"
  },
  "language_info": {
   "codemirror_mode": {
    "name": "ipython",
    "version": 3
   },
   "file_extension": ".py",
   "mimetype": "text/x-python",
   "name": "python",
   "nbconvert_exporter": "python",
   "pygments_lexer": "ipython3",
   "version": "3.8.3"
  }
 },
 "nbformat": 4,
 "nbformat_minor": 4
}
