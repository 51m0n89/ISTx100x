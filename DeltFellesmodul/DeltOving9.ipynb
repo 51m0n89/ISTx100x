{
 "cells": [
  {
   "cell_type": "markdown",
   "metadata": {},
   "source": [
    "# Øving 9: Enkel lineær regresjon"
   ]
  },
  {
   "cell_type": "markdown",
   "metadata": {},
   "source": [
    "Dette er en Jupyter-notatbok. Se i Python-ressursene i venstremenyen i emnet i Blackboard hvis du ikke vet helt hvordan du bruker notatboken! \n",
    "\n",
    "**Kortversjon:** dobbeltklikk på en celle for å komme i edit-mode, gjør endringene din og kjør koden i en celle med shift-enter (eller velge play-knappen i vertøylinja over). For å kjøre alt i notatboka kan du trykke shift-enter på alle celler (en etter en), eller gå i menyen for hubben (til venstre) og velge Run-\"Run all cells\"."
   ]
  },
  {
   "cell_type": "code",
   "execution_count": 1,
   "metadata": {},
   "outputs": [],
   "source": [
    "import pandas as pd # for å lese data fra csv-fil\n",
    "import seaborn as sns # plotting\n",
    "import numpy as np #numerikk\n",
    "import statsmodels.api as sms # regresjonen\n",
    "import statsmodels.formula.api as smf # modellformel for regresjonen\n",
    "import matplotlib.pyplot as plt # plotte regresjonslinje med KI og PI\n",
    "import warnings \n",
    "warnings.simplefilter(action='ignore', category=FutureWarning)# fordi en av plottefunksjonene må oppdateres av utvikler og kommer per i dag med lang FutureWarning som vi ikke vil se på\n"
   ]
  },
  {
   "cell_type": "markdown",
   "metadata": {},
   "source": [
    "## Spørsmål 7:\n",
    "Vi leser inn datasettet 'sykkel.csv' og plotter `y = Kalorier` mot `x = MaksPuls` og `y = Kalorier` mot `x = Tid` med en plottefunksjon som også viser estimert regresjonslinje og 95% konfidensintervall for linja. Kanskje ser du allerede hvilken modell som vi ha høyeste $R^2$, alså høyeste andel forklart varians i kaloriforbruk? "
   ]
  },
  {
   "cell_type": "code",
   "execution_count": 2,
   "metadata": {
    "scrolled": true
   },
   "outputs": [
    {
     "data": {
      "image/png": "[encoded data removed]",
      "text/plain": [
       "<Figure size 432x288 with 2 Axes>"
      ]
     },
     "metadata": {
      "needs_background": "light"
     },
     "output_type": "display_data"
    }
   ],
   "source": [
    "dfsykkel = pd.read_csv('https://www.math.ntnu.no/emner/IST100x/python_felles/sykkel.csv') # lese inn datasettet\n",
    "dfsykkel.head()\n",
    "\n",
    "plt.subplot(1, 2, 1)\n",
    "sns.regplot(x='MaksPuls', y='Kalorier', data=dfsykkel)\n",
    "plt.ylim(290,510)\n",
    "\n",
    "plt.subplot(1, 2, 2)\n",
    "sns.regplot(x='Tid', y='Kalorier', color =\"g\", data=dfsykkel)\n",
    "plt.ylim(290,510)\n",
    "\n",
    "plt.tight_layout(); plt.show()"
   ]
  },
  {
   "cell_type": "markdown",
   "metadata": {},
   "source": [
    "I koden nedenfor har vi tilpasset en slik lineær regresjonsmodell for `Kalorier` som funksjon av på `MaksPuls`. Finn ut hvor god modellen er, og sammenlign med en ny modell der du bytter ut `MaksPuls` med `Tid`. Når du har bestemt deg for hvilken kovariat som er den beste forklaringsvariabelen (se på andelen forklart varians, $R^2$, som heter \"R-squared\" i utskriften under), så fyller du inn svarene i STACK-øvingen."
   ]
  },
  {
   "cell_type": "code",
   "execution_count": 3,
   "metadata": {},
   "outputs": [
    {
     "data": {
      "text/html": [
       "<table class=\"simpletable\">\n",
       "<caption>OLS Regression Results</caption>\n",
       "<tr>\n",
       "  <th>Dep. Variable:</th>        <td>Kalorier</td>     <th>  R-squared:         </th> <td>   0.572</td>\n",
       "</tr>\n",
       "<tr>\n",
       "  <th>Model:</th>                   <td>OLS</td>       <th>  Adj. R-squared:    </th> <td>   0.560</td>\n",
       "</tr>\n",
       "<tr>\n",
       "  <th>Method:</th>             <td>Least Squares</td>  <th>  F-statistic:       </th> <td>   48.17</td>\n",
       "</tr>\n",
       "<tr>\n",
       "  <th>Date:</th>             <td>Tue, 13 Oct 2020</td> <th>  Prob (F-statistic):</th> <td>3.93e-08</td>\n",
       "</tr>\n",
       "<tr>\n",
       "  <th>Time:</th>                 <td>08:26:25</td>     <th>  Log-Likelihood:    </th> <td> -171.82</td>\n",
       "</tr>\n",
       "<tr>\n",
       "  <th>No. Observations:</th>      <td>    38</td>      <th>  AIC:               </th> <td>   347.6</td>\n",
       "</tr>\n",
       "<tr>\n",
       "  <th>Df Residuals:</th>          <td>    36</td>      <th>  BIC:               </th> <td>   350.9</td>\n",
       "</tr>\n",
       "<tr>\n",
       "  <th>Df Model:</th>              <td>     1</td>      <th>                     </th>     <td> </td>   \n",
       "</tr>\n",
       "<tr>\n",
       "  <th>Covariance Type:</th>      <td>nonrobust</td>    <th>                     </th>     <td> </td>   \n",
       "</tr>\n",
       "</table>\n",
       "<table class=\"simpletable\">\n",
       "<tr>\n",
       "      <td></td>         <th>coef</th>     <th>std err</th>      <th>t</th>      <th>P>|t|</th>  <th>[0.025</th>    <th>0.975]</th>  \n",
       "</tr>\n",
       "<tr>\n",
       "  <th>Intercept</th> <td>  133.3837</td> <td>   37.689</td> <td>    3.539</td> <td> 0.001</td> <td>   56.947</td> <td>  209.821</td>\n",
       "</tr>\n",
       "<tr>\n",
       "  <th>Tid</th>       <td>    6.3946</td> <td>    0.921</td> <td>    6.940</td> <td> 0.000</td> <td>    4.526</td> <td>    8.263</td>\n",
       "</tr>\n",
       "</table>\n",
       "<table class=\"simpletable\">\n",
       "<tr>\n",
       "  <th>Omnibus:</th>       <td> 1.323</td> <th>  Durbin-Watson:     </th> <td>   1.182</td>\n",
       "</tr>\n",
       "<tr>\n",
       "  <th>Prob(Omnibus):</th> <td> 0.516</td> <th>  Jarque-Bera (JB):  </th> <td>   1.033</td>\n",
       "</tr>\n",
       "<tr>\n",
       "  <th>Skew:</th>          <td> 0.139</td> <th>  Prob(JB):          </th> <td>   0.597</td>\n",
       "</tr>\n",
       "<tr>\n",
       "  <th>Kurtosis:</th>      <td> 2.241</td> <th>  Cond. No.          </th> <td>    416.</td>\n",
       "</tr>\n",
       "</table><br/><br/>Warnings:<br/>[1] Standard Errors assume that the covariance matrix of the errors is correctly specified."
      ],
      "text/plain": [
       "<class 'statsmodels.iolib.summary.Summary'>\n",
       "\"\"\"\n",
       "                            OLS Regression Results                            \n",
       "==============================================================================\n",
       "Dep. Variable:               Kalorier   R-squared:                       0.572\n",
       "Model:                            OLS   Adj. R-squared:                  0.560\n",
       "Method:                 Least Squares   F-statistic:                     48.17\n",
       "Date:                Tue, 13 Oct 2020   Prob (F-statistic):           3.93e-08\n",
       "Time:                        08:26:25   Log-Likelihood:                -171.82\n",
       "No. Observations:                  38   AIC:                             347.6\n",
       "Df Residuals:                      36   BIC:                             350.9\n",
       "Df Model:                           1                                         \n",
       "Covariance Type:            nonrobust                                         \n",
       "==============================================================================\n",
       "                 coef    std err          t      P>|t|      [0.025      0.975]\n",
       "------------------------------------------------------------------------------\n",
       "Intercept    133.3837     37.689      3.539      0.001      56.947     209.821\n",
       "Tid            6.3946      0.921      6.940      0.000       4.526       8.263\n",
       "==============================================================================\n",
       "Omnibus:                        1.323   Durbin-Watson:                   1.182\n",
       "Prob(Omnibus):                  0.516   Jarque-Bera (JB):                1.033\n",
       "Skew:                           0.139   Prob(JB):                        0.597\n",
       "Kurtosis:                       2.241   Cond. No.                         416.\n",
       "==============================================================================\n",
       "\n",
       "Warnings:\n",
       "[1] Standard Errors assume that the covariance matrix of the errors is correctly specified.\n",
       "\"\"\""
      ]
     },
     "execution_count": 3,
     "metadata": {},
     "output_type": "execute_result"
    }
   ],
   "source": [
    "sykkelmodell = smf.ols('Kalorier~Tid', data=dfsykkel).fit()\n",
    "sykkelmodell.summary()"
   ]
  },
  {
   "cell_type": "markdown",
   "metadata": {},
   "source": [
    "## Spørsmål 8: \n",
    "\n",
    "Du har fått beskjed om hvilken datafil du skal bruke - det er enten filA, filB, eller filC. Start med å spesifisere hvilken fil du skal bruke og så leses data inn fra filen og de første radene skrives ut."
   ]
  },
  {
   "cell_type": "code",
   "execution_count": 4,
   "metadata": {},
   "outputs": [],
   "source": [
    "filA=\"https://www.math.ntnu.no/emner/IST100x/python_felles/dataA.csv\"\n",
    "filB=\"https://www.math.ntnu.no/emner/IST100x/python_felles/dataB.csv\"\n",
    "filC=\"https://www.math.ntnu.no/emner/IST100x/python_felles/dataC.csv\""
   ]
  },
  {
   "cell_type": "code",
   "execution_count": 5,
   "metadata": {},
   "outputs": [
    {
     "data": {
      "text/html": [
       "<div>\n",
       "<style scoped>\n",
       "    .dataframe tbody tr th:only-of-type {\n",
       "        vertical-align: middle;\n",
       "    }\n",
       "\n",
       "    .dataframe tbody tr th {\n",
       "        vertical-align: top;\n",
       "    }\n",
       "\n",
       "    .dataframe thead th {\n",
       "        text-align: right;\n",
       "    }\n",
       "</style>\n",
       "<table border=\"1\" class=\"dataframe\">\n",
       "  <thead>\n",
       "    <tr style=\"text-align: right;\">\n",
       "      <th></th>\n",
       "      <th>y</th>\n",
       "      <th>x</th>\n",
       "    </tr>\n",
       "  </thead>\n",
       "  <tbody>\n",
       "    <tr>\n",
       "      <th>count</th>\n",
       "      <td>30.000000</td>\n",
       "      <td>30.000000</td>\n",
       "    </tr>\n",
       "    <tr>\n",
       "      <th>mean</th>\n",
       "      <td>3.867795</td>\n",
       "      <td>4.185390</td>\n",
       "    </tr>\n",
       "    <tr>\n",
       "      <th>std</th>\n",
       "      <td>1.192652</td>\n",
       "      <td>1.201630</td>\n",
       "    </tr>\n",
       "    <tr>\n",
       "      <th>min</th>\n",
       "      <td>2.015389</td>\n",
       "      <td>2.082806</td>\n",
       "    </tr>\n",
       "    <tr>\n",
       "      <th>25%</th>\n",
       "      <td>2.973725</td>\n",
       "      <td>3.414420</td>\n",
       "    </tr>\n",
       "    <tr>\n",
       "      <th>50%</th>\n",
       "      <td>3.883617</td>\n",
       "      <td>4.240345</td>\n",
       "    </tr>\n",
       "    <tr>\n",
       "      <th>75%</th>\n",
       "      <td>4.634277</td>\n",
       "      <td>4.960612</td>\n",
       "    </tr>\n",
       "    <tr>\n",
       "      <th>max</th>\n",
       "      <td>5.934535</td>\n",
       "      <td>6.365439</td>\n",
       "    </tr>\n",
       "  </tbody>\n",
       "</table>\n",
       "</div>"
      ],
      "text/plain": [
       "               y          x\n",
       "count  30.000000  30.000000\n",
       "mean    3.867795   4.185390\n",
       "std     1.192652   1.201630\n",
       "min     2.015389   2.082806\n",
       "25%     2.973725   3.414420\n",
       "50%     3.883617   4.240345\n",
       "75%     4.634277   4.960612\n",
       "max     5.934535   6.365439"
      ]
     },
     "execution_count": 5,
     "metadata": {},
     "output_type": "execute_result"
    }
   ],
   "source": [
    "minfil=filA # endre til hvilken fil du skal bruke\n",
    "df = pd.read_csv(minfil)\n",
    "df.describe()"
   ]
  },
  {
   "cell_type": "markdown",
   "metadata": {},
   "source": [
    "Legg merke til at vi har en kovariat som heter $x$ og en repons som heter $y$. "
   ]
  },
  {
   "cell_type": "markdown",
   "metadata": {},
   "source": [
    "### 8a) Kryssplott\n",
    "\n",
    "Under finner du et kryssplott av x mot y. Hvilken sammenheng er det mellom x og y?\n",
    "\n",
    "* trolig ingen\n",
    "* positiv lineær sammenheng\n",
    "* negativ lineær sammenheng\n",
    "* ikke-lineær sammenheng\n",
    "\n",
    "Fyll inn svar i STACK."
   ]
  },
  {
   "cell_type": "code",
   "execution_count": 6,
   "metadata": {},
   "outputs": [
    {
     "name": "stdout",
     "output_type": "stream",
     "text": [
      "          y         x\n",
      "y  1.000000 -0.869797\n",
      "x -0.869797  1.000000\n"
     ]
    },
    {
     "data": {
      "image/png": "[encoded data removed]",
      "text/plain": [
       "<Figure size 360x360 with 1 Axes>"
      ]
     },
     "metadata": {
      "needs_background": "light"
     },
     "output_type": "display_data"
    }
   ],
   "source": [
    "sns.relplot(x=\"x\", y=\"y\",data = df)\n",
    "\n",
    "print(df.corr())# dette er en matrise med korrelasjonskoeffisienten i element 2,1 og 1,2"
   ]
  },
  {
   "cell_type": "markdown",
   "metadata": {},
   "source": [
    "### 8b) Utskrift fra tilpasning av enkel lineær regresjon\n",
    "\n",
    "Under er det kode for å tilpasse en enkel lineær regresjon. \n",
    "\n",
    "På stack skal du skrive inn numerisk verdi for\n",
    "\n",
    "* antall datapunkt $n$ i datasettet\n",
    "* estimert stigningstall $\\hat{\\beta}_1$\n",
    "* estimert standardavvik til stigningstallet "
   ]
  },
  {
   "cell_type": "code",
   "execution_count": 7,
   "metadata": {},
   "outputs": [
    {
     "data": {
      "text/html": [
       "<table class=\"simpletable\">\n",
       "<caption>OLS Regression Results</caption>\n",
       "<tr>\n",
       "  <th>Dep. Variable:</th>            <td>y</td>        <th>  R-squared:         </th> <td>   0.757</td>\n",
       "</tr>\n",
       "<tr>\n",
       "  <th>Model:</th>                   <td>OLS</td>       <th>  Adj. R-squared:    </th> <td>   0.748</td>\n",
       "</tr>\n",
       "<tr>\n",
       "  <th>Method:</th>             <td>Least Squares</td>  <th>  F-statistic:       </th> <td>   87.01</td>\n",
       "</tr>\n",
       "<tr>\n",
       "  <th>Date:</th>             <td>Tue, 13 Oct 2020</td> <th>  Prob (F-statistic):</th> <td>4.37e-10</td>\n",
       "</tr>\n",
       "<tr>\n",
       "  <th>Time:</th>                 <td>08:26:25</td>     <th>  Log-Likelihood:    </th> <td> -26.153</td>\n",
       "</tr>\n",
       "<tr>\n",
       "  <th>No. Observations:</th>      <td>    30</td>      <th>  AIC:               </th> <td>   56.31</td>\n",
       "</tr>\n",
       "<tr>\n",
       "  <th>Df Residuals:</th>          <td>    28</td>      <th>  BIC:               </th> <td>   59.11</td>\n",
       "</tr>\n",
       "<tr>\n",
       "  <th>Df Model:</th>              <td>     1</td>      <th>                     </th>     <td> </td>   \n",
       "</tr>\n",
       "<tr>\n",
       "  <th>Covariance Type:</th>      <td>nonrobust</td>    <th>                     </th>     <td> </td>   \n",
       "</tr>\n",
       "</table>\n",
       "<table class=\"simpletable\">\n",
       "<tr>\n",
       "      <td></td>         <th>coef</th>     <th>std err</th>      <th>t</th>      <th>P>|t|</th>  <th>[0.025</th>    <th>0.975]</th>  \n",
       "</tr>\n",
       "<tr>\n",
       "  <th>Intercept</th> <td>    7.4810</td> <td>    0.402</td> <td>   18.587</td> <td> 0.000</td> <td>    6.657</td> <td>    8.306</td>\n",
       "</tr>\n",
       "<tr>\n",
       "  <th>x</th>         <td>   -0.8633</td> <td>    0.093</td> <td>   -9.328</td> <td> 0.000</td> <td>   -1.053</td> <td>   -0.674</td>\n",
       "</tr>\n",
       "</table>\n",
       "<table class=\"simpletable\">\n",
       "<tr>\n",
       "  <th>Omnibus:</th>       <td> 0.650</td> <th>  Durbin-Watson:     </th> <td>   1.574</td>\n",
       "</tr>\n",
       "<tr>\n",
       "  <th>Prob(Omnibus):</th> <td> 0.723</td> <th>  Jarque-Bera (JB):  </th> <td>   0.191</td>\n",
       "</tr>\n",
       "<tr>\n",
       "  <th>Skew:</th>          <td>-0.190</td> <th>  Prob(JB):          </th> <td>   0.909</td>\n",
       "</tr>\n",
       "<tr>\n",
       "  <th>Kurtosis:</th>      <td> 3.092</td> <th>  Cond. No.          </th> <td>    16.8</td>\n",
       "</tr>\n",
       "</table><br/><br/>Warnings:<br/>[1] Standard Errors assume that the covariance matrix of the errors is correctly specified."
      ],
      "text/plain": [
       "<class 'statsmodels.iolib.summary.Summary'>\n",
       "\"\"\"\n",
       "                            OLS Regression Results                            \n",
       "==============================================================================\n",
       "Dep. Variable:                      y   R-squared:                       0.757\n",
       "Model:                            OLS   Adj. R-squared:                  0.748\n",
       "Method:                 Least Squares   F-statistic:                     87.01\n",
       "Date:                Tue, 13 Oct 2020   Prob (F-statistic):           4.37e-10\n",
       "Time:                        08:26:25   Log-Likelihood:                -26.153\n",
       "No. Observations:                  30   AIC:                             56.31\n",
       "Df Residuals:                      28   BIC:                             59.11\n",
       "Df Model:                           1                                         \n",
       "Covariance Type:            nonrobust                                         \n",
       "==============================================================================\n",
       "                 coef    std err          t      P>|t|      [0.025      0.975]\n",
       "------------------------------------------------------------------------------\n",
       "Intercept      7.4810      0.402     18.587      0.000       6.657       8.306\n",
       "x             -0.8633      0.093     -9.328      0.000      -1.053      -0.674\n",
       "==============================================================================\n",
       "Omnibus:                        0.650   Durbin-Watson:                   1.574\n",
       "Prob(Omnibus):                  0.723   Jarque-Bera (JB):                0.191\n",
       "Skew:                          -0.190   Prob(JB):                        0.909\n",
       "Kurtosis:                       3.092   Cond. No.                         16.8\n",
       "==============================================================================\n",
       "\n",
       "Warnings:\n",
       "[1] Standard Errors assume that the covariance matrix of the errors is correctly specified.\n",
       "\"\"\""
      ]
     },
     "execution_count": 7,
     "metadata": {},
     "output_type": "execute_result"
    }
   ],
   "source": [
    "formel='y~x'\n",
    "modell = smf.ols(formel,df).fit()\n",
    "modell.summary()"
   ]
  },
  {
   "cell_type": "markdown",
   "metadata": {},
   "source": [
    "### 8c) Hypotesetest \n",
    "\n",
    "Hvilken hypotesetest utføres i utskriften (midterste panel) i linjen som starter med \"coef\"?\n",
    "\n",
    "* $H_0: \\beta_0=1$ mot $H_1: \\beta_0>1$\n",
    "* $H_0: \\beta_0=0$ mot $H_1: \\beta_0\\neq 0$\n",
    "* $H_0: \\beta_1= -1 $ mot $H_1: \\beta_0 < -1$\n",
    "* $H_0: \\beta_1=0$ mot $H_1: \\beta_1\\neq 0$\n",
    "\n",
    "Vi forkaster $H_0$ til fordel for $H_1$ ved signifikansnivå $\\alpha = 0.01$ dersom $p$-verdien er lavere enn $0.01$. Kan vi forkaste null-hypotesen ved signifikansnivå $\\alpha = 0.01$?\n",
    "\n",
    "Du leser av $p$-verdien i utskriftens midterste panel og svarer på om du kan forkaste nullhypotesen på stack."
   ]
  },
  {
   "cell_type": "code",
   "execution_count": null,
   "metadata": {},
   "outputs": [],
   "source": []
  }
 ],
 "metadata": {
  "kernelspec": {
   "display_name": "Python 3",
   "language": "python",
   "name": "python3"
  },
  "language_info": {
   "codemirror_mode": {
    "name": "ipython",
    "version": 3
   },
   "file_extension": ".py",
   "mimetype": "text/x-python",
   "name": "python",
   "nbconvert_exporter": "python",
   "pygments_lexer": "ipython3",
   "version": "3.8.3"
  }
 },
 "nbformat": 4,
 "nbformat_minor": 4
}
