{
 "cells": [
  {
   "cell_type": "markdown",
   "metadata": {},
   "source": [
    "# Øving 5: Vanlige sannsynlighetsmodeller - Poisson og eksponential"
   ]
  },
  {
   "cell_type": "markdown",
   "metadata": {},
   "source": [
    "Dette er en Jupyter-notatbok. Se i Python-ressursene i venstremenyen i emnet i Blackboard hvis du ikke vet helt hvordan du bruker notatboken! \n",
    "\n",
    "**Kortversjon:** dobbeltklikk på en celle for å komme i edit-mode, gjør endringene din og kjør koden i en celle med shift-enter (eller velge play-knappen i vertøylinja over). For å kjøre alt i notatboka kan du trykke shift-enter på alle celler (en etter en), eller gå i menyen for hubben (til venstre) og velge Run-\"Run all cells\"."
   ]
  },
  {
   "cell_type": "markdown",
   "metadata": {},
   "source": [
    "## Spørsmål 3\n",
    "\n",
    "La $X$ være en poissonfordelt stokastisk variabel med forventning $\\lambda t$.\n",
    "\n",
    "Regn ut:\n",
    "\n",
    "a) P($X$=a) \n",
    "\n",
    "b) P($X \\le$ b) \n",
    "\n",
    "c) P(c<$X$<d) \n",
    "\n",
    "Her har du fått dine unike verdier av $\\lambda t$, $a$, $b$, $c$ og $d$ i oppgaven i stack\n",
    "\n",
    "Vi fikk verdiene $\\lambda t=6.2$, $a$=10, $b$=5, $c$=3 og $d$=6 og skal bruke disse i løsningen under. Du bruker de verdiene du fikk!\n",
    "\n",
    "Først - vi trenger statistikk-modulen fra scipy-pakke, som vi laster slik:"
   ]
  },
  {
   "cell_type": "code",
   "execution_count": 1,
   "metadata": {},
   "outputs": [],
   "source": [
    "from scipy import stats"
   ]
  },
  {
   "cell_type": "markdown",
   "metadata": {},
   "source": [
    "\n",
    "\n",
    "### 3a\n",
    "\n",
    "Anta at du skal regne ut $P(X=10)$, da bruker du funksjonen stats.poisson.pmf som tar to argumenter: først tallet som vi skal være lik 10, deretter $\\lambda t$."
   ]
  },
  {
   "cell_type": "code",
   "execution_count": 2,
   "metadata": {},
   "outputs": [
    {
     "data": {
      "text/plain": [
       "0.04693837759360656"
      ]
     },
     "execution_count": 2,
     "metadata": {},
     "output_type": "execute_result"
    }
   ],
   "source": [
    "stats.poisson.pmf(10,6.2)"
   ]
  },
  {
   "cell_type": "markdown",
   "metadata": {},
   "source": [
    "### 3b \n",
    "\n",
    "Anta at du skal regne ut $P(X \\le 5)$. Du skal bruke funksjonen stats.poisson.cdf som tar de samme to argumentene som over, og regner ut sannsynlighet for å være mindre eller lik det første tallet."
   ]
  },
  {
   "cell_type": "code",
   "execution_count": 3,
   "metadata": {},
   "outputs": [
    {
     "data": {
      "text/plain": [
       "0.41411303858437765"
      ]
     },
     "execution_count": 3,
     "metadata": {},
     "output_type": "execute_result"
    }
   ],
   "source": [
    "stats.poisson.cdf(5,6.2)"
   ]
  },
  {
   "cell_type": "markdown",
   "metadata": {},
   "source": [
    "### 3c\n",
    "\n",
    "Her skal vi bruke den samme funksjonen som i 3b, men nå skal vi sannsynligheten for å ligge i et intervall fra c til og med d. Vi har lært følgende regel i kapittel 4 (side 143 i læreboka)\n",
    "$$P(c < X\\le d)=P(X \\le d)-P(X \\le c)$$ \n",
    "\n",
    "Anta at du skal regne ut $P(3<X \\le 6)=P(X \\le 6)-P(X\\le 3)$."
   ]
  },
  {
   "cell_type": "code",
   "execution_count": 4,
   "metadata": {},
   "outputs": [
    {
     "data": {
      "text/plain": [
       "0.43998398239640785"
      ]
     },
     "execution_count": 4,
     "metadata": {},
     "output_type": "execute_result"
    }
   ],
   "source": [
    "stats.poisson.cdf(6,6.2)-stats.poisson.cdf(3,6.2)"
   ]
  },
  {
   "cell_type": "markdown",
   "metadata": {},
   "source": [
    "Du kunne også ha summert punktsannsynligheter for verdiene i intervallet, spesielt her når vi har bare verdiene 4, 5 og 6 som da skulle ha regnet sannsynlighet for og summert."
   ]
  },
  {
   "cell_type": "markdown",
   "metadata": {},
   "source": [
    "## Spørsmål 4\n",
    "\n",
    "La $X$ være antall hendelser i et område på 21 kvadratmeter, der hendelser skjer ifølge en poissonprosess\n",
    "med rate $\\lambda$ hendelser per kvadratmeter.\n",
    "\n",
    "For hvilken tallverdi $x$ er sannsynligheten $P(X = x$) størst? Tallet er et heltall.\n",
    "\n",
    "Anta at verdiene du fikk oppgitt at $\\lambda=0.55$. Forventningverdien i poissonfordelingen blir da $0.55\\cdot 21=11.55$.\n",
    "(Her er det ikke pr tid men pr areal, men vi kan jo tenke at vi bruker $t$ for areal.)\n",
    "\n",
    "Vi trenger to pakker: statistikk-modulen fra scipy (som i spørsmål 3), og matlibplot.pyplot for å plotte.\n",
    "\n",
    "Vi starter med å importere disse."
   ]
  },
  {
   "cell_type": "code",
   "execution_count": 5,
   "metadata": {},
   "outputs": [],
   "source": [
    "from scipy import stats\n",
    "import matplotlib.pyplot as plt"
   ]
  },
  {
   "cell_type": "markdown",
   "metadata": {},
   "source": [
    "Hva er de mulige verdiene $X$ kan ta? For poissonfordeling er det 0 og alle positive heltall. Men, vi vil jo ikke sjekke alle verdier opp til uendelig. Her kan man prøve seg frem litt og vi kan tenke slik: hva om vi lar nedre grense være forveningsverdien minus tre standardavvik, og så øvre grense være forveningsverdien pluss tre standardavvik? For poissonfordelingen er variansen lik forventningsverdien, så da blir det $11.55-3\\cdot \\sqrt{11.55}\\approx 1 $ og $11.55+3\\cdot \\sqrt{11.55}\\approx 22$. Det er helt fint om du prøver deg frem (går jo helt fint med 0 som nedre grense) - det viktigste er at vi ser på plottet under at vi har med en topp.\n",
    "\n",
    "Vi lager en vektor med disse tallene (det gjør vi med range-funksjonen under - husk at øvre grense for range er +1) "
   ]
  },
  {
   "cell_type": "code",
   "execution_count": 6,
   "metadata": {},
   "outputs": [],
   "source": [
    "xverdier=range(0,23)"
   ]
  },
  {
   "cell_type": "markdown",
   "metadata": {},
   "source": [
    "og så skal vi regne ut punktsannsynligheten for disse verdiene med funksjonen stats.binom.pmf, og første argument kan godt være en vektor (da regnes punktsannsynligheten ut for alle elementene i vektoren)."
   ]
  },
  {
   "cell_type": "code",
   "execution_count": 7,
   "metadata": {},
   "outputs": [
    {
     "data": {
      "text/plain": [
       "array([9.63604310e-06, 1.11296298e-04, 6.42736120e-04, 2.47453406e-03,\n",
       "       7.14521711e-03, 1.65054515e-02, 3.17729942e-02, 5.24254404e-02,\n",
       "       7.56892295e-02, 9.71345112e-02, 1.12190360e-01, 1.17799878e-01,\n",
       "       1.13382383e-01, 1.00735886e-01, 8.31071063e-02, 6.39924719e-02,\n",
       "       4.61945656e-02, 3.13851314e-02, 2.01387926e-02, 1.22422660e-02,\n",
       "       7.06990864e-03, 3.88844975e-03, 2.04143612e-03])"
      ]
     },
     "execution_count": 7,
     "metadata": {},
     "output_type": "execute_result"
    }
   ],
   "source": [
    "stats.poisson.pmf(xverdier, 11.55)"
   ]
  },
  {
   "cell_type": "markdown",
   "metadata": {},
   "source": [
    "Vi kan se om vi finner det største tallet blant alle disse punktsannsynlighetene, men det er lettere å se hvis vi lager et sannsynlighetshistogram over tallene. Det gjør vi slik:"
   ]
  },
  {
   "cell_type": "code",
   "execution_count": 8,
   "metadata": {},
   "outputs": [
    {
     "data": {
      "image/png": "[encoded data removed]",
      "text/plain": [
       "<Figure size 432x288 with 1 Axes>"
      ]
     },
     "metadata": {
      "needs_background": "light"
     },
     "output_type": "display_data"
    }
   ],
   "source": [
    "fig, ax = plt.subplots()\n",
    "ax.bar(xverdier, stats.poisson.pmf(xverdier, 11.55))\n",
    "ax.grid()"
   ]
  },
  {
   "cell_type": "markdown",
   "metadata": {},
   "source": [
    "For en poissonfordeling med $\\lambda \\cdot 21=0.55\\cdot 21=11.55$ ble den høyeste punktsannynlighet for $x=11$. "
   ]
  },
  {
   "cell_type": "markdown",
   "metadata": {},
   "source": [
    "## Ekstra - finne maksimum av en vektor\n",
    "\n",
    "Hvis du har lyst til å bruke Python til å finne maksimum av en vektor trenger du også numpy-pakken, og kan gjøre slik. Stemmer det med hva du fant ved å se på figuren?\n"
   ]
  },
  {
   "cell_type": "code",
   "execution_count": 9,
   "metadata": {},
   "outputs": [
    {
     "name": "stdout",
     "output_type": "stream",
     "text": [
      "11\n"
     ]
    }
   ],
   "source": [
    "import numpy as np\n",
    "from scipy import stats\n",
    "\n",
    "x= np.arange(23)\n",
    "y= stats.poisson.pmf(x, 11.55)\n",
    "# vi kan bruker numpy funksjoner til å lett finne maksimum\n",
    "max_x = x[np.where(y == y.max())]\n",
    "print(max_x[0])"
   ]
  }
 ],
 "metadata": {
  "kernelspec": {
   "display_name": "Python 3",
   "language": "python",
   "name": "python3"
  },
  "language_info": {
   "codemirror_mode": {
    "name": "ipython",
    "version": 3
   },
   "file_extension": ".py",
   "mimetype": "text/x-python",
   "name": "python",
   "nbconvert_exporter": "python",
   "pygments_lexer": "ipython3",
   "version": "3.8.3"
  }
 },
 "nbformat": 4,
 "nbformat_minor": 4
}
