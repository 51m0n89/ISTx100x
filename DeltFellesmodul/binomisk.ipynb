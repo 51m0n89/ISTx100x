{
 "cells": [
  {
   "cell_type": "markdown",
   "metadata": {},
   "source": [
    "# Binomisk fordeling"
   ]
  },
  {
   "cell_type": "markdown",
   "metadata": {},
   "source": [
    "Vi skal se hvordan vi kan regne ut og plotte punktsannsynligheter, kumulativ fordelingsfunksjon og kvantiler i binomisk fordeling. "
   ]
  },
  {
   "cell_type": "markdown",
   "metadata": {},
   "source": [
    "## Punktsannsynlighet "
   ]
  },
  {
   "cell_type": "markdown",
   "metadata": {},
   "source": [
    "La *X* være en diskret stokastisk variabel. *Punktsannsynligheten* er funksjonen som tar verdien *P*(*X* = *x*) i *x*.\n",
    "\n",
    "Vi kan regne ut punktsannsynlighet i Python ved å bruke metoden `pmf` på en diskret stokastisk variabel.\n",
    "\n",
    "La oss først anta at *X* er binomisk fordelt med parametre *n* = 15 og *p* = 0.3. Vi regner ut og plotter punktsannsynlighene. \n",
    "\n",
    "Vi har også regnet ut forventningsverdi, median, standardavvik og varians ved metodene `mean`, `median`, `std` og `var`."
   ]
  },
  {
   "cell_type": "code",
   "execution_count": 1,
   "metadata": {},
   "outputs": [
    {
     "name": "stdout",
     "output_type": "stream",
     "text": [
      "Vi har valgt n 15.00 og p 0.50\n",
      "Forventningsverdi 7.50, median 8.00, standardavvik 1.94, varians 3.75\n"
     ]
    }
   ],
   "source": [
    "import numpy as np\n",
    "from scipy import stats\n",
    "import matplotlib.pyplot as plt\n",
    "\n",
    "valgtn=15\n",
    "valgtp=0.5\n",
    "print(\"Vi har valgt n {:.2f} og p {:.2f}\".format(valgtn,valgtp))\n",
    "      \n",
    "X = stats.binom(n=valgtn, p=valgtp)  # X er nå en binomisk fordelt stokastisk variabel\n",
    "\n",
    "print(\"Forventningsverdi {:.2f}, median {:.2f}, standardavvik {:.2f}, varians {:.2f}\".format(\n",
    "        X.mean(), X.median(), X.std(), X.var()))\n"
   ]
  },
  {
   "cell_type": "markdown",
   "metadata": {},
   "source": [
    "Hvordan stemmer det med hva du lærte i forelesningene? Der så vi at forveningsverdien var $np$ og variansen $np(1-p)$ og standardavviket er kvadratroten av variansen. Vi så ikke på hva medianen i binomisk fordeling er.\n",
    "\n",
    "\n",
    "Vi kan også skrive ut og plott punktsannsynlighetene."
   ]
  },
  {
   "cell_type": "code",
   "execution_count": 2,
   "metadata": {},
   "outputs": [
    {
     "name": "stdout",
     "output_type": "stream",
     "text": [
      "Punktsannsynligheter\n",
      "[3.05175781e-05 4.57763672e-04 3.20434570e-03 1.38854980e-02\n",
      " 4.16564941e-02 9.16442871e-02 1.52740479e-01 1.96380615e-01\n",
      " 1.96380615e-01 1.52740479e-01 9.16442871e-02 4.16564941e-02\n",
      " 1.38854980e-02 3.20434570e-03 4.57763672e-04 3.05175781e-05]\n"
     ]
    },
    {
     "data": {
      "image/png": "[encoded data removed]",
      "text/plain": [
       "<Figure size 432x288 with 1 Axes>"
      ]
     },
     "metadata": {
      "needs_background": "light"
     },
     "output_type": "display_data"
    }
   ],
   "source": [
    "xverdier=range(0,valgtn+1)\n",
    "print(\"Punktsannsynligheter\")\n",
    "print(X.pmf(xverdier))\n",
    "\n",
    "fig, ax = plt.subplots()\n",
    "ax.bar(xverdier, X.pmf(xverdier))\n",
    "ax.grid()"
   ]
  },
  {
   "cell_type": "markdown",
   "metadata": {},
   "source": [
    "## Kumulativ fordelingsfunksjon"
   ]
  },
  {
   "cell_type": "markdown",
   "metadata": {},
   "source": [
    "*Kumulativ fordelingsfunksjon* til en stokastisk variabel *X* er definert ved at den i *x* tar verdien *P*(*X* ≤ *x*).  Merk at *P*(*a* < *X* ≤ *b*), som vi kan finne ved å summere punktsannsynligheter for diskrete variabler , også kan uttrykkes ved den kumulative fordelingsfunksjonen: *P*(*a* < *X* ≤ *b*) =  *P*(*X* ≤ *b*) − *P*(*X* ≤ *a*).\n",
    "\n",
    "Vi kan regne ut kumulativ fordelingsfunksjon i Python ved å bruke metoden `cdf` på en stokastisk variabel.\n",
    "\n",
    "For diskrete variabler (som binomisk fordeling) blir kumulativ fordelingsfunksjon en trappefunksjon. Vi tegner nå grafen til kumulativ fordelingsfunksjon for den binomisk fordelte *X* med parametre *n* = 15 og *p* = 0.5."
   ]
  },
  {
   "cell_type": "code",
   "execution_count": 3,
   "metadata": {},
   "outputs": [
    {
     "data": {
      "image/png": "[encoded data removed]",
      "text/plain": [
       "<Figure size 432x288 with 1 Axes>"
      ]
     },
     "metadata": {
      "needs_background": "light"
     },
     "output_type": "display_data"
    }
   ],
   "source": [
    "X = stats.binom(n=valgtn, p=valgtp)\n",
    "\n",
    "xverdier = range(0,valgtn + 1)\n",
    "xverdier_linje = range( - 1, valgtn+2)\n",
    "\n",
    "fig, ax = plt.subplots()\n",
    "ax.step(xverdier_linje, X.cdf(xverdier_linje), where=\"post\")\n",
    "ax.scatter(xverdier, X.cdf(xverdier))\n",
    "ax.set_xlim(min(xverdier_linje), max(xverdier_linje))\n",
    "ax.set_ylim(bottom=0)\n",
    "ax.grid()"
   ]
  },
  {
   "cell_type": "markdown",
   "metadata": {},
   "source": [
    "## Hjelp til oppgaver på øving 4"
   ]
  },
  {
   "cell_type": "markdown",
   "metadata": {},
   "source": [
    "Her spør man etter punktsannsynlighet og kumulativ sannsynlighet i binomisk fordeling. Alle studenter har fått litt ulike verdier av\n",
    "\n",
    "$n$: antall forsøk\n",
    "$p$: suksessansynligheten\n",
    "$k$: verdien du skal finne sannsynligheten for, eller sannsynligheten for å være mindre eller større enn\n",
    "\n",
    "La oss anta at du har fått oppgitt at $n=12$, $p=0.6$ og $k=3$, og la oss sette dem som variabler:"
   ]
  },
  {
   "cell_type": "code",
   "execution_count": 4,
   "metadata": {},
   "outputs": [
    {
     "name": "stdout",
     "output_type": "stream",
     "text": [
      "Du velger n= 12.00, p= 0.60  og k= 3.00\n"
     ]
    }
   ],
   "source": [
    "import numpy as np\n",
    "from scipy import stats\n",
    "\n",
    "valgtn=12\n",
    "valgtp=0.6\n",
    "valgtk=3\n",
    "print(\"Du velger n= {:.2f}, p= {:.2f}  og k= {:.2f}\".format(valgtn,valgtp,valgtk))\n",
    "\n",
    "X = stats.binom(n=valgtn, p=valgtp)  # X er nå en binomisk fordelt stokastisk variabel"
   ]
  },
  {
   "cell_type": "markdown",
   "metadata": {},
   "source": [
    "## Punktsannsynlighet\n",
    "\n",
    "Hvis du har blitt bedt om å finne sannsynligheten for at den stokastiske variablen er lik $k$ regner du det slik:\n"
   ]
  },
  {
   "cell_type": "code",
   "execution_count": 5,
   "metadata": {},
   "outputs": [
    {
     "name": "stdout",
     "output_type": "stream",
     "text": [
      "0.012457082879999996\n"
     ]
    }
   ],
   "source": [
    "print(X.pmf(valgtk))"
   ]
  },
  {
   "cell_type": "markdown",
   "metadata": {},
   "source": [
    "## Sannsynlighet for mindre, mindre eller lik, større, større eller lil\n",
    "\n",
    "Her er det lurt å tegne seg en tall-linje med tallene rundt $k$ og tenke godt over hvordan man kan skrive om det man blir spurt om til sannsynlighet for å være mindre eller lik et tall - fordi det er det den kumulative fordelingen sier.\n",
    "\n",
    "### Sannsynlighet for å være mindre eller lik et tall $k$\n",
    "\n",
    "Hvis du har blitt bedt om å finne sannsynligheten for at den stokastiske variablen er mindre eller lik $k$ regner du slik:\n"
   ]
  },
  {
   "cell_type": "code",
   "execution_count": 6,
   "metadata": {},
   "outputs": [
    {
     "name": "stdout",
     "output_type": "stream",
     "text": [
      "0.01526726656000001\n"
     ]
    }
   ],
   "source": [
    "print(X.cdf(valgtk))"
   ]
  },
  {
   "cell_type": "markdown",
   "metadata": {},
   "source": [
    "### Sannsynlighet for å være mindre enn et tall $k$\n",
    "\n",
    "Hvis det heller var mindre enn $k$ så betyr det mindre eller lik $k-1$, og da må du heller regne ut"
   ]
  },
  {
   "cell_type": "code",
   "execution_count": 7,
   "metadata": {},
   "outputs": [
    {
     "name": "stdout",
     "output_type": "stream",
     "text": [
      "0.00281018368\n"
     ]
    }
   ],
   "source": [
    "print(X.cdf(valgtk-1))"
   ]
  },
  {
   "cell_type": "markdown",
   "metadata": {},
   "source": [
    "### Sannsynlighet for å være større enn et tall $k$\n",
    "\n",
    "Fra uke 2 husker vi at sannsynlighet for komplmentet til en hendelse er 1 minus sannsynligheten for hendelsen, så $P(X>k)=1-P(X\\le k)$ og det kan du bruke til å regne ut sannsynlighet for større enn et tall."
   ]
  },
  {
   "cell_type": "code",
   "execution_count": 8,
   "metadata": {},
   "outputs": [
    {
     "name": "stdout",
     "output_type": "stream",
     "text": [
      "0.98473273344\n"
     ]
    }
   ],
   "source": [
    "print(1-X.cdf(valgtk))"
   ]
  },
  {
   "cell_type": "markdown",
   "metadata": {},
   "source": [
    "### Sannsynlighet for å være større eller lik enn et tall $k$\n",
    "\n",
    "Da må vi bruke $P(X\\ge k)=1-P(X\\le k-1)$ og regne"
   ]
  },
  {
   "cell_type": "code",
   "execution_count": 9,
   "metadata": {},
   "outputs": [
    {
     "name": "stdout",
     "output_type": "stream",
     "text": [
      "0.99718981632\n"
     ]
    }
   ],
   "source": [
    "print(1-X.cdf(valgtk-1))"
   ]
  },
  {
   "cell_type": "markdown",
   "metadata": {},
   "source": [
    "## Forveningsverdi, varians, standardavvik og median\n",
    "\n",
    "Vi har formler for forventningsverdi, varians og standardavvik, og kan regne dette uten bruk av Python (eller med Python som i forklaringen på toppen av denne notebooken), men for median har vi ikke noen enkel formel i pensum.\n"
   ]
  },
  {
   "cell_type": "code",
   "execution_count": 10,
   "metadata": {},
   "outputs": [
    {
     "name": "stdout",
     "output_type": "stream",
     "text": [
      "7.0\n"
     ]
    }
   ],
   "source": [
    "print(X.median())"
   ]
  }
 ],
 "metadata": {
  "kernelspec": {
   "display_name": "Python 3",
   "language": "python",
   "name": "python3"
  },
  "language_info": {
   "codemirror_mode": {
    "name": "ipython",
    "version": 3
   },
   "file_extension": ".py",
   "mimetype": "text/x-python",
   "name": "python",
   "nbconvert_exporter": "python",
   "pygments_lexer": "ipython3",
   "version": "3.8.3"
  }
 },
 "nbformat": 4,
 "nbformat_minor": 4
}
