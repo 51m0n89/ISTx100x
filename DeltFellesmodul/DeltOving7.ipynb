{
 "cells": [
  {
   "cell_type": "markdown",
   "metadata": {},
   "source": [
    "# Øving 7: Punkt- og intervallestimering"
   ]
  },
  {
   "cell_type": "markdown",
   "metadata": {},
   "source": [
    "Dette er en Jupyter-notatbok. Se i Python-ressursene i venstremenyen i emnet i Blackboard hvis du ikke vet helt hvordan du bruker notatboken! \n",
    "\n",
    "**Kortversjon:** dobbeltklikk på en celle for å komme i edit-mode, gjør endringene din og kjør koden i en celle med shift-enter (eller velge play-knappen i vertøylinja over). For å kjøre alt i notatboka kan du trykke shift-enter på alle celler (en etter en), eller gå i menyen for hubben (til venstre) og velge Run-\"Run all cells\"."
   ]
  },
  {
   "cell_type": "markdown",
   "metadata": {},
   "source": [
    "## Spørsmål 7\n",
    "\n",
    "**Husk at tallene under ikke er de samme som du har fått!**\n",
    "\n",
    "En kjemistudent har fått i oppgave å estimere konsentrasjonen av koffein i Coca Cola. Han undersøker 12 prøver, hver med nøyaktig 1.0 dl Coca Cola, og for hver prøve måler han antall mg koffein i prøven.\n",
    "\n",
    "La $X_i$ betegne målt koffeininnhold, i mg, for prøve nr. $i = 1, 2, \\ldots, 12$. \n",
    "Anta at $X_1,\\ldots, X_12$ er uavhengige og normalfordelte med (ukjent) forventning $\\mu$ og standardavvik $\\sigma$=0.14. Forventningsverdien $\\mu$ representerer her det sanne koffein-innholdet i hver Coca Cola-prøve, mens standardavviket $\\sigma$ representerer unøyaktigheten i målemetoden til studenten.\n",
    "\n",
    "**(a)** De 12 målingene til studenten resulterte i et empirisk gjennomsnitt på $\\bar{x}=\\frac{1}{12}\\sum_{i=1}^{12} x_i=9.2$.\n",
    "Regn ut et 95% konfidensintervall for $\\mu$ basert på dette resultatet. Oppgi grensene i intervallet som desimaltall med tre desimaler, for eksempel 0.053 og 0.125.\n",
    "\n",
    "Det finnes ikke en egen konfidensintervallfunksjon i Python, så vi må bruke formelen vi har lært fra undervisningen - det vi skal lage heter $Z$-intervall og formelen finnes som Regel 6.9 i Løvås:\n",
    "\n",
    "For et utvalg uavhengige og normalfordelte variable med kjent standardavvik $\\sigma$ er et $(1-\\alpha)\\cdot100$ %-konfidensintervall gitt ved \n",
    "$\\left[\\bar x - z_{\\frac{\\alpha}{2}}\\frac{\\sigma}{\\sqrt{n}},\\bar x + z_{\\frac{\\alpha}{2}}\\frac{\\sigma}{\\sqrt{n}}\\right]$\n",
    "Her er $z_{\\frac{\\alpha}{2}}$ kritisk verdi i standard normalfordeling (tallet i standardnormalfordelingen der det er sannsynlighet $\\frac{\\alpha}{2}$ for være større enn)."
   ]
  },
  {
   "cell_type": "code",
   "execution_count": 1,
   "metadata": {},
   "outputs": [
    {
     "name": "stdout",
     "output_type": "stream",
     "text": [
      "1.959963984540054\n"
     ]
    }
   ],
   "source": [
    "import numpy as np\n",
    "from scipy import stats\n",
    "from math import sqrt\n",
    "\n",
    "xbar=9.2\n",
    "sigma=0.14\n",
    "alpha=0.05 \n",
    "n=12\n",
    "\n",
    "alphahalve=alpha/2\n",
    "zalphahalve=stats.norm.ppf(1-alphahalve) # sannsynlighet alpha/2 til høyre har 1-alpha/2 til venstre\n",
    "print(zalphahalve)"
   ]
  },
  {
   "cell_type": "markdown",
   "metadata": {},
   "source": [
    "Merk at ppf-funksjonen er inversen av kumulativ fordeling, altså er $P(Z \\leq \\text{ppf}(\\frac{α}{2})) = \\frac{α}{2}$. Vi ønsker derimot verdien $z_{\\frac{α}{2}}$, som oppfyller $P(Z \\geq z_{\\frac{α}{2}}) = \\frac{α}{2}$. Dette blir dermed $\\text{ppf}(1 - \\frac{α}{2})$.\n",
    "\n",
    "Da har vi\n",
    "\n",
    "* xbar\n",
    "* sigma\n",
    "* n\n",
    "* zalphahalve\n",
    "\n",
    "og det er bare å sette inn i formelen og regne ut!"
   ]
  },
  {
   "cell_type": "code",
   "execution_count": null,
   "metadata": {},
   "outputs": [],
   "source": [
    "nedre=xbar- #fyll ut resten selv\n",
    "print(nedre)\n",
    "ovre=xbar+ # fyll ut resten selv\n",
    "print(ovre)\n"
   ]
  },
  {
   "cell_type": "markdown",
   "metadata": {},
   "source": [
    "**(b)** Hvor mange prøver måtte studenten minst ha undersøkt for at bredden på et 95% konfidensintervall ikke skal være større enn 0.12? \n",
    "Prøv deg frem med ulike $n$ i Python, og oppgi svaret som et positivt heltall.\n",
    "\n",
    "Bredden til et konfidensintervall kan vi regne som øvre grense minus nedre grense. I a) så vi formelen for øvre og nedre grense, og bredden til intervallet blir da\n",
    "$$B(n)=(\\bar x + z_{\\frac{\\alpha}{2}}\\frac{\\sigma}{\\sqrt{n}})-(\\bar x - z_{\\frac{\\alpha}{2}}\\frac{\\sigma}{\\sqrt{n}})=2 z_{\\frac{\\alpha}{2}} \\frac{\\sigma}{\\sqrt{n}}$$\n",
    "\n",
    "Vi har fått beskjed om å la $\\sigma$ og $z_{\\frac{\\alpha}{2}}$ være faste størrelser (som vi allerede har skrevet inn og regnet ut over) og vi skal se på bredden som en funksjon av antallet $n$. Selve bredden $B(n)$ har vi også fått oppgitt skal være 0.12, så bredden er kjent. \n",
    "\n",
    "Den åpenbare løsningen (som ikke krever prøving og feiling) er da å løse denne ligningen som nå kun har en ukjent størrelse, og den ukjente størrelsen er $n$. Hvis du vil gjøre det så er det helt fint!\n",
    "\n",
    "Men, vi er blitt bedt om å heller utforske hvordan denne funksjonen ser ut som en funksjon av n. Vi ser allerede at $\\sqrt{n}$ er i nevneren."
   ]
  },
  {
   "cell_type": "code",
   "execution_count": 2,
   "metadata": {},
   "outputs": [
    {
     "data": {
      "image/png": "[encoded data removed]",
      "text/plain": [
       "<Figure size 432x288 with 1 Axes>"
      ]
     },
     "metadata": {
      "needs_background": "light"
     },
     "output_type": "display_data"
    }
   ],
   "source": [
    "import matplotlib.pyplot as plt\n",
    "import numpy as np\n",
    "from scipy import stats\n",
    "\n",
    "sigma=0.14\n",
    "alpha=0.05 \n",
    "alphahalve=alpha/2\n",
    "zalphahalve=stats.norm.ppf(1-alphahalve) \n",
    "\n",
    "def breddefunc(n):\n",
    "  return(2*zalphahalve*sigma/np.sqrt(n))\n",
    "\n",
    "nverdier=np.arange(1,31)\n",
    "\n",
    "fig, ax = plt.subplots()\n",
    "ax.plot(nverdier, breddefunc(nverdier), '.-')\n",
    "ax.set_xlabel('n')\n",
    "ax.set_ylabel('bredde')\n",
    "ax.hlines(y=0.12, xmin=1, xmax=30, linewidth=2, color='r')\n",
    "ax.grid()\n",
    "plt.show()"
   ]
  },
  {
   "cell_type": "markdown",
   "metadata": {},
   "source": [
    "Tja, er det 20 eller 21 som gir bredde på 0.12? Undersøker vi litt nærmere ser vi at vi må velge $n=21$ for å være sikret bredde som ikke overskrider 0.12."
   ]
  },
  {
   "cell_type": "code",
   "execution_count": 3,
   "metadata": {},
   "outputs": [
    {
     "data": {
      "image/png": "[encoded data removed]",
      "text/plain": [
       "<Figure size 432x288 with 1 Axes>"
      ]
     },
     "metadata": {
      "needs_background": "light"
     },
     "output_type": "display_data"
    }
   ],
   "source": [
    "fig, ax = plt.subplots()\n",
    "ax.plot(nverdier, breddefunc(nverdier), '.-')\n",
    "ax.set_xlim(18,22)\n",
    "ax.set_ylim(0.13,0.11)\n",
    "ax.set_xlabel('n')\n",
    "ax.set_ylabel('bredde')\n",
    "ax.hlines(y=0.12, xmin=18, xmax=22, linewidth=2, color='r')\n",
    "ax.grid()\n",
    "plt.show()"
   ]
  }
 ],
 "metadata": {
  "kernelspec": {
   "display_name": "Python 3",
   "language": "python",
   "name": "python3"
  },
  "language_info": {
   "codemirror_mode": {
    "name": "ipython",
    "version": 3
   },
   "file_extension": ".py",
   "mimetype": "text/x-python",
   "name": "python",
   "nbconvert_exporter": "python",
   "pygments_lexer": "ipython3",
   "version": "3.8.3"
  }
 },
 "nbformat": 4,
 "nbformat_minor": 4
}
