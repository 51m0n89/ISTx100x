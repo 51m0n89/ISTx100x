{
 "cells": [
  {
   "cell_type": "markdown",
   "metadata": {},
   "source": [
    "# Øving 6: Normalfordeling"
   ]
  },
  {
   "cell_type": "markdown",
   "metadata": {},
   "source": [
    "Dette er en Jupyter-notatbok. Se i Python-ressursene i venstremenyen i emnet i Blackboard hvis du ikke vet helt hvordan du bruker notatboken! \n",
    "\n",
    "**Kortversjon:** dobbeltklikk på en celle for å komme i edit-mode, gjør endringene din og kjør koden i en celle med shift-enter (eller velge play-knappen i vertøylinja over). For å kjøre alt i notatboka kan du trykke shift-enter på alle celler (en etter en), eller gå i menyen for hubben (til venstre) og velge Run-\"Run all cells\"."
   ]
  },
  {
   "cell_type": "markdown",
   "metadata": {},
   "source": [
    "## Spørsmål 3\n",
    "\n",
    "**Nå er vi kommet til uke 6 med øvinger - og vi tror at du er klar for å tenke litt selv i arbeidet med Python, derfor velger vi nå å fortelle hvilke funksjoner du skal bruke for å løse oppgaven, og ikke bare løse oppgaven for deg. Enig?**\n",
    "\n",
    "Husk at tallene under ikke er de samme som du har fått!\n",
    "\n",
    "Vi ser på konsentrasjonen av et giftstoff i havbunnen like utenfor en fabrikk. Miljøforskriftene sier at konsentrasjonen ikke skal overstige 12 $\\mu$g\\dm$^3$. For å kontrollere dette tas en prøve fra havbunnen. Vi antar at en prøveverdi 𝑌 er normalfordelt med forventning $\\mu=13 \\mu $g\\dm$^3$ og standardavvik $\\sigma=1.2 \\mu$g\\dm$^3$."
   ]
  },
  {
   "cell_type": "markdown",
   "metadata": {},
   "source": [
    "### Hvordan regne ut sannsynligheter med normalfordelingen?\n",
    "\n",
    "I pakken *scipy* finnes en modul som heter *stats*, og i denne modulen finnes mange funksjoner for å regne med normalfordelingen med fornavn *norm*. \n",
    "\n",
    "Vi kan få tilgang til disse funksjonene ved å laste inn modulen *stats*."
   ]
  },
  {
   "cell_type": "code",
   "execution_count": 2,
   "metadata": {},
   "outputs": [],
   "source": [
    "from scipy import stats"
   ]
  },
  {
   "cell_type": "markdown",
   "metadata": {},
   "source": [
    "For å regne ut sannsynligheter er det kun en funksjon som trengs, og det er funksjonen *norm.cdf*. Den bruker vi til å regne ut $P(X\\le x)$ der $X$ er normal med forventningsverdi $\\mu$ og standardavvik $\\sigma$.\n",
    "\n",
    "Argumenter til *norm.cdf(x,loc,scale,)*:\n",
    "\n",
    "* Verdien vi skal regne ut sannsynligheten for å være mindre eller lik heter \"x\".\n",
    "* Forventingsverdien heter \"loc\" (hvis den ikke angis antar man at forventingsverdien er 0).\n",
    "* Standardavviket heter \"scale\" (hvis den ikke angis antar man at standardavviket er 1).\n",
    "\n",
    "Legg merke til at vi kan regne ut sannsynligheter for generelle normalfordelinger (vi spesifiserer selv forventning og varians), og at v ikke trenger å standardisere - slik vi må hvis vi skal bruke tabellene."
   ]
  },
  {
   "cell_type": "markdown",
   "metadata": {},
   "source": [
    "### 3a\n",
    "\n",
    "Vi har fått oppgitt at den tilfeldige variablen $Y$ har forventing $\\mu=13\\mu$g\\dm$^3$ og standardavvik $\\sigma=1.2\\mu$g\\dm$^3$. Vi skal regne ut $P(Y \\ge 12)$.\n"
   ]
  },
  {
   "cell_type": "code",
   "execution_count": 3,
   "metadata": {},
   "outputs": [
    {
     "data": {
      "text/plain": [
       "0.6830306580593271"
      ]
     },
     "execution_count": 3,
     "metadata": {},
     "output_type": "execute_result"
    }
   ],
   "source": [
    "1-stats.norm.cdf(12,loc=13,scale=1.2)"
   ]
  },
  {
   "cell_type": "markdown",
   "metadata": {},
   "source": [
    "### 3b \n",
    "\n",
    "Gitt at konsentrasjonen overskrider terskelverdien, hva er sannsynligheten for at konsentrasjonen er høyere enn $14 \\mu g / dm^3$?\n",
    "\n",
    "Her er det snakk om betinget sannsynlighet, $P(A \\mid B)$, som regnes ut som $P(A \\cap B)/P(B)$. \n",
    "\n",
    "- Hendelsen A er \"$Y>14$\n",
    "- Hendelsen B er \"$Y>12$\" (overskrider terskelverdien)\n",
    "- Observer at hendelsen B er inneholdet i hendelsen A- med det mener vi at hvis vi vet at hendelsen A har inntruffet så har også hendelsen B inntruffet. Hva blir da hendelsen $A \\cap B$?\n",
    "\n",
    "Husk at $P(Y>a)=1-P(Y \\le a)$."
   ]
  },
  {
   "cell_type": "code",
   "execution_count": null,
   "metadata": {},
   "outputs": [],
   "source": [
    "# her regner du ut telleren P(A snitt B) - bytt ut HVAteller med hva du vil regne ut\n",
    "teller=1-stats.norm.cdf(x=HVAteller,loc=13,scale=1.2)\n",
    "# så regner du ut nevneren P(B)- bytt ut HVAteller med hva du vil regne ut\n",
    "nevner=1-stats.norm.cdf(x=HVAnevner,loc=13,scale=1.2)\n",
    "# og så blir svaret\n",
    "print(teller/nevner)"
   ]
  },
  {
   "cell_type": "markdown",
   "metadata": {},
   "source": [
    "## Spørsmål 4\n",
    "\n",
    "**Nå er vi kommet til uke 6 med øvinger - og vi tror at du er klar for å tenke litt selv i arbeidet med Python, derfor velger vi nå å fortelle hvilke funksjoner du skal bruke for å løse oppgaven, og ikke bare løse oppgaven for deg. Enig?**\n",
    "\n",
    "Husk at tallene under ikke er de samme som du har fått!\n",
    "\n",
    "Oppgaven starter med å vise et sannsynlighetshistogram.\n",
    "\n",
    "Sannsynlighetshistogrammet viser punktsannsynligheter $P(X=x)$ for en binomisk fordelt stokastisk variabel $X \\sim \\text{binom}(n = 35, p = 0.2)$. \n",
    "\n"
   ]
  },
  {
   "cell_type": "markdown",
   "metadata": {},
   "source": [
    "### 4a) \n",
    "\n",
    "For den binomisk fordelte variabelen $X$, regn ut $P(X \\leq 8)$. \n",
    "\n",
    "Da er det bruk for kumulativ fordeling for en binomisk fordelt variabel - som vi bruk for funksjonen *stats.binom.cdf* - som vi også brukte i Øving 4."
   ]
  },
  {
   "cell_type": "code",
   "execution_count": null,
   "metadata": {},
   "outputs": [],
   "source": [
    "stats.binom.cdf(x,n,p)"
   ]
  },
  {
   "cell_type": "markdown",
   "metadata": {},
   "source": [
    "### 4b) \n",
    "\n",
    "I tillegg har vi tegnet på sannsynlighetstettheten til en normalfordelt stokastisk variabel $Y$ med samme forventningsverdi og standardavvik som $X$, altså $\\mu = 35 \\cdot 0.2$ og $\\sigma= \\sqrt{34\\cdot 0.2\\cdot(1-0.2)}$. Som vi ser kan normalfordelingen være en god tilnærming til den binomiske fordelingen. \n",
    "For den normalfordelte variabelen $Y$, regn ut $P(Y \\leq 8)$. \n",
    "\n",
    "Da er det bruk for kumulativ fordeling for en normalfordelt variabel - se over på oppgave 3 - og bruk de oppgitte verdiene for forveningsverdi og standardavvik."
   ]
  },
  {
   "cell_type": "code",
   "execution_count": null,
   "metadata": {},
   "outputs": [],
   "source": [
    "from math import sqrt # hvis du vil skrive inn standardavviket som inneholder sqrt\n",
    "print(stats.norm.cdf(x,loc,scale))"
   ]
  },
  {
   "cell_type": "markdown",
   "metadata": {},
   "source": [
    "### 4c) \n",
    "\n",
    "Kumulativ sannsynlighet i binomisk fordeling (a) tilsvarer arealene av alle stolpene fra og med $x = 0$ til og med $x=8$. Kumulativ sannsynligheter i normalfordelingen (b) tilsvarer arealet under grafen opp til $x=8$. En bedre normaltilnærming får vi ved å regne ut arealet under kurven opp til $x=8+0.5$.\n",
    "\n",
    "For den normalfordelte variabelen $Y$, regn ut $P(Y \\leq 8.5)$. "
   ]
  },
  {
   "cell_type": "code",
   "execution_count": null,
   "metadata": {},
   "outputs": [],
   "source": [
    "stats.norm.cdf(x,loc,scale)"
   ]
  },
  {
   "cell_type": "markdown",
   "metadata": {},
   "source": [
    "# Er du klar for å lære litt mer?\n",
    "\n",
    "Nå har vi i begge oppgaver regnet ut flere sannsynligheter knyttet til samme tilfeldige variabel, og da kan det være nyttig å heller definere variabelen en gang for alle.\n",
    "\n",
    "Anta at $X$ er normalfordelt med forventningsverdi $168$ og standardavvik $6$. Den lager vi slik:"
   ]
  },
  {
   "cell_type": "code",
   "execution_count": null,
   "metadata": {},
   "outputs": [],
   "source": [
    "from scipy import stats\n",
    "X=stats.norm(loc=168,scale=6)"
   ]
  },
  {
   "cell_type": "markdown",
   "metadata": {},
   "source": [
    "Deretter kan vi bruke mange funksjoner for å regne ut diverse om denne variablen:"
   ]
  },
  {
   "cell_type": "code",
   "execution_count": null,
   "metadata": {},
   "outputs": [],
   "source": [
    "print(\"Forventningsverdi {:.2f}, median {:.2f}, standardavvik {:.2f}, varians {:.2f}\".format(\n",
    "        X.mean(), X.median(), X.std(), X.var()))"
   ]
  },
  {
   "cell_type": "markdown",
   "metadata": {},
   "source": [
    "Vi kan også plotte sannsynlighetstettheten $f(x)$ ved å kalle *X.pdf(x)*, og det kan vi gjøre hvis $x$ er en verdi, eller en vektor. Legg merke til at for $f(x)$ heter det for kontinuerlige variabler *pdf* (probability density function), mens for diskrete variabler heter det *pmf* (probability mass function) (det så vi i Øving 4 og 5 for binomisk og Poisson)."
   ]
  },
  {
   "cell_type": "code",
   "execution_count": null,
   "metadata": {},
   "outputs": [],
   "source": [
    "import matplotlib.pyplot as plt\n",
    "import numpy as np\n",
    "\n",
    "xmin, xmax = X.interval(0.999)\n",
    "if xmin > 0 and xmin < 0.1: xmin = 0\n",
    "xverdier = np.linspace(xmin, xmax, 1001)\n",
    "\n",
    "fig, ax = plt.subplots()\n",
    "ax.plot(xverdier, X.pdf(xverdier))\n",
    "ax.set_xlim(xmin, xmax)\n",
    "ax.set_ylim(bottom=0)\n",
    "ax.grid()"
   ]
  },
  {
   "cell_type": "markdown",
   "metadata": {},
   "source": [
    "Men, for å regne ut sannsynligheter så der det arealer under kurven over, og det gjør vi lettest ved å bruke kumulativ fordeling $F(x)$, og det kan vi også plotte."
   ]
  },
  {
   "cell_type": "markdown",
   "metadata": {},
   "source": [
    "Så, for å regne ut $P(X\\le 160$ kan vi bare skrive"
   ]
  },
  {
   "cell_type": "code",
   "execution_count": null,
   "metadata": {},
   "outputs": [],
   "source": [
    "X.cdf(160)"
   ]
  },
  {
   "cell_type": "markdown",
   "metadata": {},
   "source": [
    "Legg merke til at vi bare trenger å kalle *X.cdf(x)* for å regne $P(X \\le x)$, og at $x$ kan være en vektor med verdier."
   ]
  },
  {
   "cell_type": "code",
   "execution_count": null,
   "metadata": {},
   "outputs": [],
   "source": [
    "xmin, xmax = X.interval(0.999)\n",
    "if xmin > 0 and xmin < 0.1: xmin = 0\n",
    "xverdier = np.linspace(xmin - 1, xmax + 1, 1001)\n",
    "\n",
    "fig, ax = plt.subplots()\n",
    "ax.plot(xverdier, X.cdf(xverdier))\n",
    "ax.set_xlim(xmin - 1, xmax + 1)\n",
    "ax.set_ylim(bottom=0)\n",
    "ax.grid()"
   ]
  }
 ],
 "metadata": {
  "kernelspec": {
   "display_name": "Python 3",
   "language": "python",
   "name": "python3"
  },
  "language_info": {
   "codemirror_mode": {
    "name": "ipython",
    "version": 3
   },
   "file_extension": ".py",
   "mimetype": "text/x-python",
   "name": "python",
   "nbconvert_exporter": "python",
   "pygments_lexer": "ipython3",
   "version": "3.8.3"
  }
 },
 "nbformat": 4,
 "nbformat_minor": 4
}
