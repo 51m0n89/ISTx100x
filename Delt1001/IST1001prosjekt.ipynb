{
 "cells": [
  {
   "cell_type": "code",
   "execution_count": null,
   "metadata": {},
   "outputs": [],
   "source": []
  },
  {
   "cell_type": "markdown",
   "metadata": {},
   "source": [
    "# Prosjektoppgave - statistisk kvalitetskontroll\n",
    "\n",
    "Mål med oppgaven:\n",
    "* Deskriptiv statistikk\n",
    "* Lage Shewhart- og s-diagram\n",
    "* Tolkning av kapabilitetsindeks\n",
    "\n",
    "En bedrift er ansvarlig for sløying og pakking av fisk og ønsker å foreta kontrollmålinger for å sikre at vekten av hver fiskefilet de selger til kundene sine er korrekt. Anta at bedriften hver halvtime gjennomfører en stikkprøve der de veier $n = 5$ tilfeldige valgte fiskefileter. Bedriftene gjør $k = 10$ stikkprøver. \n",
    "\n",
    "Resultatene er oppgitt i hver tabellen der hver rad i tabellen svarer til en stikkprøve. Vekten er oppgitt i gram."
   ]
  },
  {
   "cell_type": "code",
   "execution_count": 2,
   "metadata": {},
   "outputs": [
    {
     "data": {
      "text/html": [
       "<div>\n",
       "<style scoped>\n",
       "    .dataframe tbody tr th:only-of-type {\n",
       "        vertical-align: middle;\n",
       "    }\n",
       "\n",
       "    .dataframe tbody tr th {\n",
       "        vertical-align: top;\n",
       "    }\n",
       "\n",
       "    .dataframe thead th {\n",
       "        text-align: right;\n",
       "    }\n",
       "</style>\n",
       "<table border=\"1\" class=\"dataframe\">\n",
       "  <thead>\n",
       "    <tr style=\"text-align: right;\">\n",
       "      <th></th>\n",
       "      <th>0</th>\n",
       "      <th>1</th>\n",
       "      <th>2</th>\n",
       "      <th>3</th>\n",
       "      <th>4</th>\n",
       "    </tr>\n",
       "  </thead>\n",
       "  <tbody>\n",
       "    <tr>\n",
       "      <th>0</th>\n",
       "      <td>101.624345</td>\n",
       "      <td>99.388244</td>\n",
       "      <td>99.471828</td>\n",
       "      <td>98.927031</td>\n",
       "      <td>100.865408</td>\n",
       "    </tr>\n",
       "    <tr>\n",
       "      <th>1</th>\n",
       "      <td>97.698461</td>\n",
       "      <td>101.744812</td>\n",
       "      <td>99.238793</td>\n",
       "      <td>100.319039</td>\n",
       "      <td>99.750630</td>\n",
       "    </tr>\n",
       "    <tr>\n",
       "      <th>2</th>\n",
       "      <td>101.462108</td>\n",
       "      <td>97.939859</td>\n",
       "      <td>99.677583</td>\n",
       "      <td>99.615946</td>\n",
       "      <td>101.133769</td>\n",
       "    </tr>\n",
       "    <tr>\n",
       "      <th>3</th>\n",
       "      <td>98.900109</td>\n",
       "      <td>99.827572</td>\n",
       "      <td>99.122142</td>\n",
       "      <td>100.042214</td>\n",
       "      <td>100.582815</td>\n",
       "    </tr>\n",
       "    <tr>\n",
       "      <th>4</th>\n",
       "      <td>98.899381</td>\n",
       "      <td>101.144724</td>\n",
       "      <td>100.901591</td>\n",
       "      <td>100.502494</td>\n",
       "      <td>100.900856</td>\n",
       "    </tr>\n",
       "    <tr>\n",
       "      <th>5</th>\n",
       "      <td>99.316272</td>\n",
       "      <td>99.877110</td>\n",
       "      <td>99.064231</td>\n",
       "      <td>99.732112</td>\n",
       "      <td>100.530355</td>\n",
       "    </tr>\n",
       "    <tr>\n",
       "      <th>6</th>\n",
       "      <td>99.308339</td>\n",
       "      <td>99.603246</td>\n",
       "      <td>99.312827</td>\n",
       "      <td>99.154794</td>\n",
       "      <td>99.328754</td>\n",
       "    </tr>\n",
       "    <tr>\n",
       "      <th>7</th>\n",
       "      <td>99.987335</td>\n",
       "      <td>98.882690</td>\n",
       "      <td>100.234416</td>\n",
       "      <td>101.659802</td>\n",
       "      <td>100.742044</td>\n",
       "    </tr>\n",
       "    <tr>\n",
       "      <th>8</th>\n",
       "      <td>99.808164</td>\n",
       "      <td>99.112371</td>\n",
       "      <td>99.252842</td>\n",
       "      <td>101.692455</td>\n",
       "      <td>100.050808</td>\n",
       "    </tr>\n",
       "    <tr>\n",
       "      <th>9</th>\n",
       "      <td>99.363004</td>\n",
       "      <td>100.190915</td>\n",
       "      <td>102.100255</td>\n",
       "      <td>100.120159</td>\n",
       "      <td>100.617203</td>\n",
       "    </tr>\n",
       "  </tbody>\n",
       "</table>\n",
       "</div>"
      ],
      "text/plain": [
       "            0           1           2           3           4\n",
       "0  101.624345   99.388244   99.471828   98.927031  100.865408\n",
       "1   97.698461  101.744812   99.238793  100.319039   99.750630\n",
       "2  101.462108   97.939859   99.677583   99.615946  101.133769\n",
       "3   98.900109   99.827572   99.122142  100.042214  100.582815\n",
       "4   98.899381  101.144724  100.901591  100.502494  100.900856\n",
       "5   99.316272   99.877110   99.064231   99.732112  100.530355\n",
       "6   99.308339   99.603246   99.312827   99.154794   99.328754\n",
       "7   99.987335   98.882690  100.234416  101.659802  100.742044\n",
       "8   99.808164   99.112371   99.252842  101.692455  100.050808\n",
       "9   99.363004  100.190915  102.100255  100.120159  100.617203"
      ]
     },
     "metadata": {},
     "output_type": "display_data"
    }
   ],
   "source": [
    "n = 5\n",
    "k = 10\n",
    "\n",
    "tot = n * k\n",
    "\n",
    "mu0 = 100\n",
    "sigma0 = 1\n",
    "\n",
    "import numpy as np\n",
    "import pandas as pd\n",
    "\n",
    "import matplotlib.pyplot as plt\n",
    "%matplotlib inline\n",
    "\n",
    "#pip install tabulate\n",
    "np.random.seed(seed=1)\n",
    "\n",
    "df = pd.DataFrame(mu0 + sigma0 * np.random.randn(k, n))\n",
    "\n",
    "from IPython.display import HTML, display\n",
    "display(df)\n"
   ]
  },
  {
   "cell_type": "markdown",
   "metadata": {},
   "source": [
    "a)\n",
    "\n",
    "Visualiser dataene. \n",
    "\n",
    "Diskuter kort hva du ser."
   ]
  },
  {
   "cell_type": "code",
   "execution_count": null,
   "metadata": {},
   "outputs": [],
   "source": [
    "# Svar på a)"
   ]
  },
  {
   "cell_type": "markdown",
   "metadata": {},
   "source": [
    "b)\n",
    "\n",
    "Finn gjennomsnitt og standardavvik i hvert av de $k$ forsøkene. \n",
    "\n",
    "Finn tallverdier for nedre og øvre kontrollgrense når $z_{\\alpha / 2} =3$.\n",
    "\n",
    "Finn også nedre og øvre varselgrense."
   ]
  },
  {
   "cell_type": "markdown",
   "metadata": {},
   "source": [
    "Bedriften ønsker å selge fileter med vekt $\\mu_0 = 100$ gram. Finn minste antall kontroller bedriften må forvente å gjennomføre for å oppdage at vekten har endret set til $\\mu_1 = 99,5$ gram. "
   ]
  },
  {
   "cell_type": "code",
   "execution_count": null,
   "metadata": {},
   "outputs": [],
   "source": [
    "# Svar på b) "
   ]
  },
  {
   "cell_type": "markdown",
   "metadata": {},
   "source": [
    "Bedriften har bestemt seg for å gjennomføre $m = 10$ nye stikkeprøver neste dag gjennomført som før. Resultatet av disse gitt i tabellen under. "
   ]
  },
  {
   "cell_type": "code",
   "execution_count": 5,
   "metadata": {
    "scrolled": true
   },
   "outputs": [
    {
     "data": {
      "text/html": [
       "<div>\n",
       "<style scoped>\n",
       "    .dataframe tbody tr th:only-of-type {\n",
       "        vertical-align: middle;\n",
       "    }\n",
       "\n",
       "    .dataframe tbody tr th {\n",
       "        vertical-align: top;\n",
       "    }\n",
       "\n",
       "    .dataframe thead th {\n",
       "        text-align: right;\n",
       "    }\n",
       "</style>\n",
       "<table border=\"1\" class=\"dataframe\">\n",
       "  <thead>\n",
       "    <tr style=\"text-align: right;\">\n",
       "      <th></th>\n",
       "      <th>0</th>\n",
       "      <th>1</th>\n",
       "      <th>2</th>\n",
       "      <th>3</th>\n",
       "      <th>4</th>\n",
       "    </tr>\n",
       "  </thead>\n",
       "  <tbody>\n",
       "    <tr>\n",
       "      <td>0</td>\n",
       "      <td>98.666484</td>\n",
       "      <td>99.387466</td>\n",
       "      <td>95.227608</td>\n",
       "      <td>102.780542</td>\n",
       "      <td>95.913129</td>\n",
       "    </tr>\n",
       "    <tr>\n",
       "      <td>1</td>\n",
       "      <td>97.816505</td>\n",
       "      <td>100.505763</td>\n",
       "      <td>97.009424</td>\n",
       "      <td>97.384096</td>\n",
       "      <td>97.681985</td>\n",
       "    </tr>\n",
       "    <tr>\n",
       "      <td>2</td>\n",
       "      <td>100.602908</td>\n",
       "      <td>104.084416</td>\n",
       "      <td>99.583079</td>\n",
       "      <td>97.264149</td>\n",
       "      <td>100.578117</td>\n",
       "    </tr>\n",
       "    <tr>\n",
       "      <td>3</td>\n",
       "      <td>98.307681</td>\n",
       "      <td>99.461739</td>\n",
       "      <td>101.850002</td>\n",
       "      <td>98.004258</td>\n",
       "      <td>99.518051</td>\n",
       "    </tr>\n",
       "    <tr>\n",
       "      <td>4</td>\n",
       "      <td>97.743784</td>\n",
       "      <td>99.187132</td>\n",
       "      <td>100.013141</td>\n",
       "      <td>97.522442</td>\n",
       "      <td>98.822356</td>\n",
       "    </tr>\n",
       "    <tr>\n",
       "      <td>5</td>\n",
       "      <td>99.027632</td>\n",
       "      <td>98.224690</td>\n",
       "      <td>97.124775</td>\n",
       "      <td>96.657566</td>\n",
       "      <td>99.193010</td>\n",
       "    </tr>\n",
       "    <tr>\n",
       "      <td>6</td>\n",
       "      <td>98.961886</td>\n",
       "      <td>103.962734</td>\n",
       "      <td>94.630465</td>\n",
       "      <td>99.725453</td>\n",
       "      <td>100.240889</td>\n",
       "    </tr>\n",
       "    <tr>\n",
       "      <td>7</td>\n",
       "      <td>102.219268</td>\n",
       "      <td>100.503714</td>\n",
       "      <td>97.811573</td>\n",
       "      <td>99.500020</td>\n",
       "      <td>100.584705</td>\n",
       "    </tr>\n",
       "    <tr>\n",
       "      <td>8</td>\n",
       "      <td>98.872984</td>\n",
       "      <td>101.042023</td>\n",
       "      <td>95.763819</td>\n",
       "      <td>102.962369</td>\n",
       "      <td>102.435356</td>\n",
       "    </tr>\n",
       "    <tr>\n",
       "      <td>9</td>\n",
       "      <td>98.828645</td>\n",
       "      <td>100.722682</td>\n",
       "      <td>99.595941</td>\n",
       "      <td>97.841729</td>\n",
       "      <td>99.675420</td>\n",
       "    </tr>\n",
       "  </tbody>\n",
       "</table>\n",
       "</div>"
      ],
      "text/plain": [
       "            0           1           2           3           4\n",
       "0   98.666484   99.387466   95.227608  102.780542   95.913129\n",
       "1   97.816505  100.505763   97.009424   97.384096   97.681985\n",
       "2  100.602908  104.084416   99.583079   97.264149  100.578117\n",
       "3   98.307681   99.461739  101.850002   98.004258   99.518051\n",
       "4   97.743784   99.187132  100.013141   97.522442   98.822356\n",
       "5   99.027632   98.224690   97.124775   96.657566   99.193010\n",
       "6   98.961886  103.962734   94.630465   99.725453  100.240889\n",
       "7  102.219268  100.503714   97.811573   99.500020  100.584705\n",
       "8   98.872984  101.042023   95.763819  102.962369  102.435356\n",
       "9   98.828645  100.722682   99.595941   97.841729   99.675420"
      ]
     },
     "metadata": {},
     "output_type": "display_data"
    }
   ],
   "source": [
    "k_ny = 10\n",
    "\n",
    "np.random.seed(seed=2)\n",
    "df_ny = pd.DataFrame(mu0 -.5 + sigma0 * 2 * np.random.randn(k_ny, n))\n",
    "display(df_ny)\n",
    "\n"
   ]
  },
  {
   "cell_type": "markdown",
   "metadata": {},
   "source": [
    "c)\n",
    "\n",
    "Bedriften ønsker å kontrollere om det har inntruffet et kvalitetsavvik. Formuler situasjonen som en hypotese.\n",
    "\n",
    "Bruk kontrollgrensene du fant over og lag et Shewhart $\\bar{x}$-diagram for de neste $m = 10$ observasjonene. \n",
    "\n",
    "Diskuter hva du ser. "
   ]
  },
  {
   "cell_type": "code",
   "execution_count": null,
   "metadata": {},
   "outputs": [],
   "source": [
    "# Svar på c)"
   ]
  },
  {
   "cell_type": "markdown",
   "metadata": {},
   "source": [
    "d)\n",
    "\n",
    "Lag et $s$-diagram for spredning. \n",
    "\n",
    "Spesifiser hypotesen."
   ]
  },
  {
   "cell_type": "markdown",
   "metadata": {},
   "source": [
    "En butikk kjøper fisk av bedriften. Butikken har stilt følgende krav om toleransegrense til produsenten: $T_L = 97$ og $T_u = 103$. \n",
    "\n",
    "Beregn kapabilitet og kapalitetsindeks.\n",
    "\n",
    "Tolk kort kapabilitetsindeksen."
   ]
  },
  {
   "cell_type": "code",
   "execution_count": null,
   "metadata": {},
   "outputs": [],
   "source": [
    "# Svar på d)"
   ]
  }
 ],
 "metadata": {
  "kernelspec": {
   "display_name": "Python 3",
   "language": "python",
   "name": "python3"
  },
  "language_info": {
   "codemirror_mode": {
    "name": "ipython",
    "version": 3
   },
   "file_extension": ".py",
   "mimetype": "text/x-python",
   "name": "python",
   "nbconvert_exporter": "python",
   "pygments_lexer": "ipython3",
   "version": "3.7.6"
  }
 },
 "nbformat": 4,
 "nbformat_minor": 2
}
