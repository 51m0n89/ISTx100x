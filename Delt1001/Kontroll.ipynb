{
 "cells": [
  {
   "cell_type": "markdown",
   "metadata": {},
   "source": [
    "## Henter pakkene vi trenger"
   ]
  },
  {
   "cell_type": "code",
   "execution_count": 1,
   "metadata": {},
   "outputs": [],
   "source": [
    "import numpy as np\n",
    "import matplotlib.pyplot as plt\n",
    "from scipy import stats\n",
    "import pandas as pd"
   ]
  },
  {
   "cell_type": "markdown",
   "metadata": {},
   "source": [
    "## Leser data fra fil"
   ]
  },
  {
   "cell_type": "code",
   "execution_count": 4,
   "metadata": {},
   "outputs": [
    {
     "name": "stdout",
     "output_type": "stream",
     "text": [
      "       x1      x2      x3      x4      x5      x6\n",
      "0  0.0574  0.0570  0.0565  0.0558  0.0540  0.0556\n",
      "1  0.0543  0.0585  0.0556  0.0551  0.0562  0.0563\n",
      "2  0.0554  0.0550  0.0555  0.0551  0.0558  0.0544\n",
      "3  0.0576  0.0580  0.0570  0.0580  0.0580  0.0569\n",
      "4  0.0568  0.0570  0.0560  0.0570  0.0570  0.0560\n",
      "5  0.0572  0.0580  0.0590  0.0580  0.0570  0.0570\n",
      "6  0.0576  0.0560  0.0570  0.0580  0.0570  0.0550\n",
      "7  0.0554  0.0560  0.0580  0.0580  0.0560  0.0550\n",
      "8  0.0555  0.0570  0.0560  0.0550  0.0536  0.0544\n",
      "9  0.0570  0.0566  0.0558  0.0550  0.0554  0.0556\n"
     ]
    }
   ],
   "source": [
    "pilot = pd.read_excel('M:\\Documents\\Jupyter\\Pilot.xlsx')\n",
    "print(pilot)"
   ]
  },
  {
   "cell_type": "markdown",
   "metadata": {},
   "source": [
    "## Pen utskrift"
   ]
  },
  {
   "cell_type": "code",
   "execution_count": 5,
   "metadata": {},
   "outputs": [
    {
     "data": {
      "text/html": [
       "<div>\n",
       "<style scoped>\n",
       "    .dataframe tbody tr th:only-of-type {\n",
       "        vertical-align: middle;\n",
       "    }\n",
       "\n",
       "    .dataframe tbody tr th {\n",
       "        vertical-align: top;\n",
       "    }\n",
       "\n",
       "    .dataframe thead th {\n",
       "        text-align: right;\n",
       "    }\n",
       "</style>\n",
       "<table border=\"1\" class=\"dataframe\">\n",
       "  <thead>\n",
       "    <tr style=\"text-align: right;\">\n",
       "      <th></th>\n",
       "      <th>x1</th>\n",
       "      <th>x2</th>\n",
       "      <th>x3</th>\n",
       "      <th>x4</th>\n",
       "      <th>x5</th>\n",
       "      <th>x6</th>\n",
       "    </tr>\n",
       "  </thead>\n",
       "  <tbody>\n",
       "    <tr>\n",
       "      <td>0</td>\n",
       "      <td>0.0574</td>\n",
       "      <td>0.0570</td>\n",
       "      <td>0.0565</td>\n",
       "      <td>0.0558</td>\n",
       "      <td>0.0540</td>\n",
       "      <td>0.0556</td>\n",
       "    </tr>\n",
       "    <tr>\n",
       "      <td>1</td>\n",
       "      <td>0.0543</td>\n",
       "      <td>0.0585</td>\n",
       "      <td>0.0556</td>\n",
       "      <td>0.0551</td>\n",
       "      <td>0.0562</td>\n",
       "      <td>0.0563</td>\n",
       "    </tr>\n",
       "    <tr>\n",
       "      <td>2</td>\n",
       "      <td>0.0554</td>\n",
       "      <td>0.0550</td>\n",
       "      <td>0.0555</td>\n",
       "      <td>0.0551</td>\n",
       "      <td>0.0558</td>\n",
       "      <td>0.0544</td>\n",
       "    </tr>\n",
       "    <tr>\n",
       "      <td>3</td>\n",
       "      <td>0.0576</td>\n",
       "      <td>0.0580</td>\n",
       "      <td>0.0570</td>\n",
       "      <td>0.0580</td>\n",
       "      <td>0.0580</td>\n",
       "      <td>0.0569</td>\n",
       "    </tr>\n",
       "    <tr>\n",
       "      <td>4</td>\n",
       "      <td>0.0568</td>\n",
       "      <td>0.0570</td>\n",
       "      <td>0.0560</td>\n",
       "      <td>0.0570</td>\n",
       "      <td>0.0570</td>\n",
       "      <td>0.0560</td>\n",
       "    </tr>\n",
       "    <tr>\n",
       "      <td>5</td>\n",
       "      <td>0.0572</td>\n",
       "      <td>0.0580</td>\n",
       "      <td>0.0590</td>\n",
       "      <td>0.0580</td>\n",
       "      <td>0.0570</td>\n",
       "      <td>0.0570</td>\n",
       "    </tr>\n",
       "    <tr>\n",
       "      <td>6</td>\n",
       "      <td>0.0576</td>\n",
       "      <td>0.0560</td>\n",
       "      <td>0.0570</td>\n",
       "      <td>0.0580</td>\n",
       "      <td>0.0570</td>\n",
       "      <td>0.0550</td>\n",
       "    </tr>\n",
       "    <tr>\n",
       "      <td>7</td>\n",
       "      <td>0.0554</td>\n",
       "      <td>0.0560</td>\n",
       "      <td>0.0580</td>\n",
       "      <td>0.0580</td>\n",
       "      <td>0.0560</td>\n",
       "      <td>0.0550</td>\n",
       "    </tr>\n",
       "    <tr>\n",
       "      <td>8</td>\n",
       "      <td>0.0555</td>\n",
       "      <td>0.0570</td>\n",
       "      <td>0.0560</td>\n",
       "      <td>0.0550</td>\n",
       "      <td>0.0536</td>\n",
       "      <td>0.0544</td>\n",
       "    </tr>\n",
       "    <tr>\n",
       "      <td>9</td>\n",
       "      <td>0.0570</td>\n",
       "      <td>0.0566</td>\n",
       "      <td>0.0558</td>\n",
       "      <td>0.0550</td>\n",
       "      <td>0.0554</td>\n",
       "      <td>0.0556</td>\n",
       "    </tr>\n",
       "  </tbody>\n",
       "</table>\n",
       "</div>"
      ],
      "text/plain": [
       "       x1      x2      x3      x4      x5      x6\n",
       "0  0.0574  0.0570  0.0565  0.0558  0.0540  0.0556\n",
       "1  0.0543  0.0585  0.0556  0.0551  0.0562  0.0563\n",
       "2  0.0554  0.0550  0.0555  0.0551  0.0558  0.0544\n",
       "3  0.0576  0.0580  0.0570  0.0580  0.0580  0.0569\n",
       "4  0.0568  0.0570  0.0560  0.0570  0.0570  0.0560\n",
       "5  0.0572  0.0580  0.0590  0.0580  0.0570  0.0570\n",
       "6  0.0576  0.0560  0.0570  0.0580  0.0570  0.0550\n",
       "7  0.0554  0.0560  0.0580  0.0580  0.0560  0.0550\n",
       "8  0.0555  0.0570  0.0560  0.0550  0.0536  0.0544\n",
       "9  0.0570  0.0566  0.0558  0.0550  0.0554  0.0556"
      ]
     },
     "metadata": {},
     "output_type": "display_data"
    }
   ],
   "source": [
    "display(pilot)"
   ]
  },
  {
   "cell_type": "markdown",
   "metadata": {},
   "source": [
    "## Konverterer til array"
   ]
  },
  {
   "cell_type": "code",
   "execution_count": 7,
   "metadata": {},
   "outputs": [
    {
     "name": "stdout",
     "output_type": "stream",
     "text": [
      "[0.0574 0.057  0.0565 0.0558 0.054  0.0556 0.0543 0.0585 0.0556 0.0551\n",
      " 0.0562 0.0563 0.0554 0.055  0.0555 0.0551 0.0558 0.0544 0.0576 0.058\n",
      " 0.057  0.058  0.058  0.0569 0.0568 0.057  0.056  0.057  0.057  0.056\n",
      " 0.0572 0.058  0.059  0.058  0.057  0.057  0.0576 0.056  0.057  0.058\n",
      " 0.057  0.055  0.0554 0.056  0.058  0.058  0.056  0.055  0.0555 0.057\n",
      " 0.056  0.055  0.0536 0.0544 0.057  0.0566 0.0558 0.055  0.0554 0.0556]\n"
     ]
    }
   ],
   "source": [
    "pilot_tabell = pilot.to_numpy().flatten()\n",
    "print(pilot_tabell)"
   ]
  },
  {
   "cell_type": "markdown",
   "metadata": {},
   "source": [
    "## Plotter alle verdier i rekkefølge"
   ]
  },
  {
   "cell_type": "code",
   "execution_count": 8,
   "metadata": {},
   "outputs": [
    {
     "data": {
      "text/plain": [
       "[<matplotlib.lines.Line2D at 0x23095172688>]"
      ]
     },
     "execution_count": 8,
     "metadata": {},
     "output_type": "execute_result"
    },
    {
     "data": {
      "image/png": "[encoded data removed]",
      "text/plain": [
       "<Figure size 432x288 with 1 Axes>"
      ]
     },
     "metadata": {
      "needs_background": "light"
     },
     "output_type": "display_data"
    }
   ],
   "source": [
    "plt.figure()\n",
    "plt.plot(pilot_tabell)"
   ]
  },
  {
   "cell_type": "markdown",
   "metadata": {},
   "source": [
    "## Histogram"
   ]
  },
  {
   "cell_type": "code",
   "execution_count": 9,
   "metadata": {},
   "outputs": [
    {
     "data": {
      "text/plain": [
       "(array([ 2.,  3.,  7.,  8., 10.,  4., 13.,  3.,  8.,  2.]),\n",
       " array([0.0536 , 0.05414, 0.05468, 0.05522, 0.05576, 0.0563 , 0.05684,\n",
       "        0.05738, 0.05792, 0.05846, 0.059  ]),\n",
       " <a list of 10 Patch objects>)"
      ]
     },
     "execution_count": 9,
     "metadata": {},
     "output_type": "execute_result"
    },
    {
     "data": {
      "image/png": "[encoded data removed]",
      "text/plain": [
       "<Figure size 432x288 with 1 Axes>"
      ]
     },
     "metadata": {
      "needs_background": "light"
     },
     "output_type": "display_data"
    }
   ],
   "source": [
    "plt.hist(pilot_tabell)"
   ]
  },
  {
   "cell_type": "markdown",
   "metadata": {},
   "source": [
    "## Oversikt over datamaterialet"
   ]
  },
  {
   "cell_type": "code",
   "execution_count": 11,
   "metadata": {},
   "outputs": [
    {
     "data": {
      "text/html": [
       "<div>\n",
       "<style scoped>\n",
       "    .dataframe tbody tr th:only-of-type {\n",
       "        vertical-align: middle;\n",
       "    }\n",
       "\n",
       "    .dataframe tbody tr th {\n",
       "        vertical-align: top;\n",
       "    }\n",
       "\n",
       "    .dataframe thead th {\n",
       "        text-align: right;\n",
       "    }\n",
       "</style>\n",
       "<table border=\"1\" class=\"dataframe\">\n",
       "  <thead>\n",
       "    <tr style=\"text-align: right;\">\n",
       "      <th></th>\n",
       "      <th>count</th>\n",
       "      <th>mean</th>\n",
       "      <th>std</th>\n",
       "      <th>min</th>\n",
       "      <th>25%</th>\n",
       "      <th>50%</th>\n",
       "      <th>75%</th>\n",
       "      <th>max</th>\n",
       "    </tr>\n",
       "  </thead>\n",
       "  <tbody>\n",
       "    <tr>\n",
       "      <td>0</td>\n",
       "      <td>6.0</td>\n",
       "      <td>0.056050</td>\n",
       "      <td>0.001216</td>\n",
       "      <td>0.0540</td>\n",
       "      <td>0.055650</td>\n",
       "      <td>0.05615</td>\n",
       "      <td>0.056875</td>\n",
       "      <td>0.0574</td>\n",
       "    </tr>\n",
       "    <tr>\n",
       "      <td>1</td>\n",
       "      <td>6.0</td>\n",
       "      <td>0.056000</td>\n",
       "      <td>0.001431</td>\n",
       "      <td>0.0543</td>\n",
       "      <td>0.055225</td>\n",
       "      <td>0.05590</td>\n",
       "      <td>0.056275</td>\n",
       "      <td>0.0585</td>\n",
       "    </tr>\n",
       "    <tr>\n",
       "      <td>2</td>\n",
       "      <td>6.0</td>\n",
       "      <td>0.055200</td>\n",
       "      <td>0.000486</td>\n",
       "      <td>0.0544</td>\n",
       "      <td>0.055025</td>\n",
       "      <td>0.05525</td>\n",
       "      <td>0.055475</td>\n",
       "      <td>0.0558</td>\n",
       "    </tr>\n",
       "    <tr>\n",
       "      <td>3</td>\n",
       "      <td>6.0</td>\n",
       "      <td>0.057583</td>\n",
       "      <td>0.000515</td>\n",
       "      <td>0.0569</td>\n",
       "      <td>0.057150</td>\n",
       "      <td>0.05780</td>\n",
       "      <td>0.058000</td>\n",
       "      <td>0.0580</td>\n",
       "    </tr>\n",
       "    <tr>\n",
       "      <td>4</td>\n",
       "      <td>6.0</td>\n",
       "      <td>0.056633</td>\n",
       "      <td>0.000497</td>\n",
       "      <td>0.0560</td>\n",
       "      <td>0.056200</td>\n",
       "      <td>0.05690</td>\n",
       "      <td>0.057000</td>\n",
       "      <td>0.0570</td>\n",
       "    </tr>\n",
       "    <tr>\n",
       "      <td>5</td>\n",
       "      <td>6.0</td>\n",
       "      <td>0.057700</td>\n",
       "      <td>0.000787</td>\n",
       "      <td>0.0570</td>\n",
       "      <td>0.057050</td>\n",
       "      <td>0.05760</td>\n",
       "      <td>0.058000</td>\n",
       "      <td>0.0590</td>\n",
       "    </tr>\n",
       "    <tr>\n",
       "      <td>6</td>\n",
       "      <td>6.0</td>\n",
       "      <td>0.056767</td>\n",
       "      <td>0.001098</td>\n",
       "      <td>0.0550</td>\n",
       "      <td>0.056250</td>\n",
       "      <td>0.05700</td>\n",
       "      <td>0.057450</td>\n",
       "      <td>0.0580</td>\n",
       "    </tr>\n",
       "    <tr>\n",
       "      <td>7</td>\n",
       "      <td>6.0</td>\n",
       "      <td>0.056400</td>\n",
       "      <td>0.001296</td>\n",
       "      <td>0.0550</td>\n",
       "      <td>0.055550</td>\n",
       "      <td>0.05600</td>\n",
       "      <td>0.057500</td>\n",
       "      <td>0.0580</td>\n",
       "    </tr>\n",
       "    <tr>\n",
       "      <td>8</td>\n",
       "      <td>6.0</td>\n",
       "      <td>0.055250</td>\n",
       "      <td>0.001200</td>\n",
       "      <td>0.0536</td>\n",
       "      <td>0.054550</td>\n",
       "      <td>0.05525</td>\n",
       "      <td>0.055875</td>\n",
       "      <td>0.0570</td>\n",
       "    </tr>\n",
       "    <tr>\n",
       "      <td>9</td>\n",
       "      <td>6.0</td>\n",
       "      <td>0.055900</td>\n",
       "      <td>0.000756</td>\n",
       "      <td>0.0550</td>\n",
       "      <td>0.055450</td>\n",
       "      <td>0.05570</td>\n",
       "      <td>0.056400</td>\n",
       "      <td>0.0570</td>\n",
       "    </tr>\n",
       "  </tbody>\n",
       "</table>\n",
       "</div>"
      ],
      "text/plain": [
       "   count      mean       std     min       25%      50%       75%     max\n",
       "0    6.0  0.056050  0.001216  0.0540  0.055650  0.05615  0.056875  0.0574\n",
       "1    6.0  0.056000  0.001431  0.0543  0.055225  0.05590  0.056275  0.0585\n",
       "2    6.0  0.055200  0.000486  0.0544  0.055025  0.05525  0.055475  0.0558\n",
       "3    6.0  0.057583  0.000515  0.0569  0.057150  0.05780  0.058000  0.0580\n",
       "4    6.0  0.056633  0.000497  0.0560  0.056200  0.05690  0.057000  0.0570\n",
       "5    6.0  0.057700  0.000787  0.0570  0.057050  0.05760  0.058000  0.0590\n",
       "6    6.0  0.056767  0.001098  0.0550  0.056250  0.05700  0.057450  0.0580\n",
       "7    6.0  0.056400  0.001296  0.0550  0.055550  0.05600  0.057500  0.0580\n",
       "8    6.0  0.055250  0.001200  0.0536  0.054550  0.05525  0.055875  0.0570\n",
       "9    6.0  0.055900  0.000756  0.0550  0.055450  0.05570  0.056400  0.0570"
      ]
     },
     "metadata": {},
     "output_type": "display_data"
    }
   ],
   "source": [
    "sammendrag = pilot.apply(pd.DataFrame.describe, axis = 1)\n",
    "display(sammendrag)"
   ]
  },
  {
   "cell_type": "markdown",
   "metadata": {},
   "source": [
    "## Shewhart"
   ]
  },
  {
   "cell_type": "code",
   "execution_count": 37,
   "metadata": {},
   "outputs": [
    {
     "data": {
      "text/plain": [
       "<matplotlib.lines.Line2D at 0x23097da5048>"
      ]
     },
     "execution_count": 37,
     "metadata": {},
     "output_type": "execute_result"
    },
    {
     "data": {
      "image/png": "[encoded data removed]",
      "text/plain": [
       "<Figure size 432x288 with 1 Axes>"
      ]
     },
     "metadata": {
      "needs_background": "light"
     },
     "output_type": "display_data"
    }
   ],
   "source": [
    "tykkelse = pd.read_excel('M:\\Documents\\Jupyter\\Tykkelse.xlsx')\n",
    "\n",
    "n = tykkelse.shape[1]\n",
    "xm = tykkelse.mean(axis = 1)\n",
    "s = tykkelse.std(axis = 1) #Standardavvik per måleserie\n",
    "\n",
    "xmm = xm.mean() # Estimert forventning av middelverdiene\n",
    "s2 = s ** 2 # Estimert varians per måleserie\n",
    "s2m = s2.mean() #Estimert varians\n",
    "sm = np.sqrt(s2m) #Estimert standardavvik\n",
    "\n",
    "#Telling fra 1\n",
    "dager = len(xm)\n",
    "t = np.linspace(1,dager,dager)\n",
    "\n",
    "nedre = xmm - 3 * sm / np.sqrt(n)\n",
    "ovre = xmm + 3 * sm / np.sqrt(n)\n",
    "\n",
    "nedre_varsel = xmm - 2 * sm / np.sqrt(n)\n",
    "ovre_varsel = xmm + 2 * sm / np.sqrt(n)\n",
    "\n",
    "plt.xlabel('Stikkprøve')\n",
    "plt.ylabel('Tykkelse')\n",
    "plt.title('Shewharts $\\overline{x}$-diagram')\n",
    "\n",
    "plt.plot(t,xm,'o-')\n",
    "plt.axhline(nedre, color = 'r')\n",
    "plt.axhline(ovre, color = 'r')\n",
    "plt.axhline(xmm)\n",
    "plt.axhline(nedre_varsel, color = 'y')\n",
    "plt.axhline(ovre_varsel, color = 'y')"
   ]
  },
  {
   "cell_type": "markdown",
   "metadata": {},
   "source": [
    "## s-diagram"
   ]
  },
  {
   "cell_type": "code",
   "execution_count": 38,
   "metadata": {},
   "outputs": [
    {
     "data": {
      "text/plain": [
       "<matplotlib.lines.Line2D at 0x230969b43c8>"
      ]
     },
     "execution_count": 38,
     "metadata": {},
     "output_type": "execute_result"
    },
    {
     "data": {
      "image/png": "[encoded data removed]",
      "text/plain": [
       "<Figure size 432x288 with 1 Axes>"
      ]
     },
     "metadata": {
      "needs_background": "light"
     },
     "output_type": "display_data"
    }
   ],
   "source": [
    "plt.plot(t,s,'o-')\n",
    "nedre = sm * np.sqrt(stats.chi2.ppf(0.002,n-1)/(n-1))\n",
    "ovre = sm * np.sqrt(stats.chi2.ppf(1-0.002,n-1)/(n-1))\n",
    "plt.axhline(nedre, color = 'r')\n",
    "plt.axhline(ovre, color = 'r')\n",
    "plt.axhline(sm,linestyle='-.')"
   ]
  },
  {
   "cell_type": "markdown",
   "metadata": {},
   "source": [
    "## p-diagram"
   ]
  },
  {
   "cell_type": "code",
   "execution_count": 39,
   "metadata": {},
   "outputs": [
    {
     "name": "stdout",
     "output_type": "stream",
     "text": [
      "[0.06 0.08 0.04 0.06 0.04 0.08 0.04 0.1 ]\n",
      "0.02641428875250667 0.09358571124749332\n"
     ]
    },
    {
     "data": {
      "text/plain": [
       "<matplotlib.lines.Line2D at 0x230968e4788>"
      ]
     },
     "execution_count": 39,
     "metadata": {},
     "output_type": "execute_result"
    },
    {
     "data": {
      "image/png": "[encoded data removed]",
      "text/plain": [
       "<Figure size 432x288 with 1 Axes>"
      ]
     },
     "metadata": {
      "needs_background": "light"
     },
     "output_type": "display_data"
    }
   ],
   "source": [
    "n = 50\n",
    "antall_defekt = [3,4,2,3,2,4,2,5]\n",
    "p_defekt = np.array(antall_defekt)\n",
    "p_defekt = p_defekt/n\n",
    "print(p_defekt)\n",
    "\n",
    "\n",
    "dager = len(p_defekt)\n",
    "\n",
    "t=np.linspace(1,dager,dager)\n",
    "p_0 = 0.06\n",
    "nedre = p_0 - np.sqrt(p_0*(1-p_0)/n)\n",
    "ovre = p_0 + np.sqrt(p_0*(1-p_0)/n)\n",
    "plt.xlabel('Stikkprøve')\n",
    "print(nedre,ovre)\n",
    "\n",
    "plt.ylabel('p')\n",
    "plt.title('p-diagram')\n",
    "plt.plot(t,p_defekt,'o-')\n",
    "plt.axhline(p_0,linestyle='-.')\n",
    "plt.axhline(nedre,color='r')\n",
    "plt.axhline(ovre,color='r')"
   ]
  },
  {
   "cell_type": "code",
   "execution_count": null,
   "metadata": {},
   "outputs": [],
   "source": []
  }
 ],
 "metadata": {
  "kernelspec": {
   "display_name": "Python 3",
   "language": "python",
   "name": "python3"
  },
  "language_info": {
   "codemirror_mode": {
    "name": "ipython",
    "version": 3
   },
   "file_extension": ".py",
   "mimetype": "text/x-python",
   "name": "python",
   "nbconvert_exporter": "python",
   "pygments_lexer": "ipython3",
   "version": "3.7.4"
  }
 },
 "nbformat": 4,
 "nbformat_minor": 2
}
